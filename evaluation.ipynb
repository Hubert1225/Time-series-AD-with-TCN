{
 "cells": [
  {
   "cell_type": "markdown",
   "id": "61891f04-8b09-4eef-89f1-6386773acdbb",
   "metadata": {},
   "source": [
    "# Evaluation of the anomaly detection\n",
    "\n",
    "This notebook evaluates trained autoencoders\n",
    "\n",
    "---"
   ]
  },
  {
   "cell_type": "code",
   "execution_count": 1,
   "id": "fa7b9f12-db80-4bda-9dfc-6de1ac9623f5",
   "metadata": {},
   "outputs": [],
   "source": [
    "import numpy as np\n",
    "import pandas as pd\n",
    "import matplotlib.pyplot as plt\n",
    "from tqdm.notebook import tqdm\n",
    "\n",
    "from data_loading import TimeSeriesWithAnoms\n",
    "from params import TcnAeParams, tcn_ae_params\n",
    "from evaluation import EvaluationMetric, PrecisionAtK, F1Score, evaluate_model\n",
    "from train_models import prepare_data\n",
    "from detectors import TcnAeDetector"
   ]
  },
  {
   "cell_type": "markdown",
   "id": "37ab1aea-b7a9-467f-b393-89955eb057ce",
   "metadata": {},
   "source": [
    "### Load and prepare data\n",
    "\n",
    "We will load all time series and normalize them (we use the same function as in the training script)"
   ]
  },
  {
   "cell_type": "code",
   "execution_count": 2,
   "id": "b827a9a4-58e9-4ca0-8fed-80efa71d2195",
   "metadata": {},
   "outputs": [
    {
     "data": {
      "text/plain": [
       "TimeSeriesWithAnoms(name='SinusRW_Length_112000_AnomalyL_200_AnomalyN_60_NoisePerc_0', values=array([0.78267852, 0.77670079, 0.77072901, ..., 0.54603821, 0.54006643,\n",
       "       0.5340887 ]), annotations=[(1070, 1270), (3245, 3445), (5200, 5400), (6245, 6445), (7468, 7668), (10367, 10567), (11337, 11537), (13161, 13361), (13686, 13886), (14208, 14408), (16211, 16411), (19490, 19690), (23336, 23536), (24398, 24598), (28747, 28947), (30869, 31069), (31927, 32127), (33280, 33480), (35285, 35485), (38473, 38673), (43829, 44029), (45524, 45724), (48857, 49057), (49095, 49295), (50200, 50400), (51410, 51610), (52926, 53126), (56144, 56344), (60167, 60367), (62178, 62378), (63715, 63915), (63976, 64176), (66221, 66421), (69191, 69391), (69961, 70161), (72081, 72281), (72694, 72894), (73269, 73469), (75091, 75291), (76875, 77075), (77531, 77731), (84824, 85024), (85373, 85573), (87237, 87437), (89419, 89619), (90802, 91002), (94382, 94582), (95438, 95638), (95713, 95913), (96599, 96799), (97139, 97339), (97363, 97563), (98089, 98289), (102972, 103172), (103637, 103837), (104790, 104990), (106521, 106721), (108110, 108310), (109052, 109252), (110141, 110341)])"
      ]
     },
     "execution_count": 2,
     "metadata": {},
     "output_type": "execute_result"
    }
   ],
   "source": [
    "all_series = prepare_data()\n",
    "all_series[0]"
   ]
  },
  {
   "cell_type": "code",
   "execution_count": 3,
   "id": "dd303c5a-c975-41df-91a4-6c4ea0983951",
   "metadata": {},
   "outputs": [
    {
     "data": {
      "text/plain": [
       "14"
      ]
     },
     "execution_count": 3,
     "metadata": {},
     "output_type": "execute_result"
    }
   ],
   "source": [
    "# number of time series\n",
    "len(all_series)"
   ]
  },
  {
   "cell_type": "markdown",
   "id": "2d7ce1e5-dcba-4045-baf7-5b51d83f8842",
   "metadata": {},
   "source": [
    "### Run anomaly detection and get metrics\n",
    "\n",
    "We will perform the following operations, for each time series:\n",
    "\n",
    "- load trained model on the series\n",
    "- get pointwise reconstruction errors on the series\n",
    "- extract sliding windows from the errors and detect anomalous windows\n",
    "- calculate metrics"
   ]
  },
  {
   "cell_type": "code",
   "execution_count": 4,
   "id": "523c4e03-72e1-41cb-b689-a7e9f88934b5",
   "metadata": {},
   "outputs": [],
   "source": [
    "def evaluate_tcnae(\n",
    "    all_series: list[TimeSeriesWithAnoms],\n",
    "    metrics: list[EvaluationMetric],\n",
    "    params: TcnAeParams,\n",
    ") -> dict[str, dict[str, float]]:\n",
    "    \"\"\"Loads the model and evaluates detection for each series\n",
    "\n",
    "    Returns dict:\n",
    "    {series_name -> {metric_name -> metric_value}}\n",
    "    \"\"\"\n",
    "    series_metrics_dict: dict[str, dict[str, float]] = {}\n",
    "    for series in tqdm(all_series):\n",
    "        detector = TcnAeDetector.load(series, params)\n",
    "        series_metrics_dict[series.name] = evaluate_model(\n",
    "            series, detector, metrics\n",
    "        )\n",
    "    return series_metrics_dict"
   ]
  },
  {
   "cell_type": "code",
   "execution_count": 5,
   "id": "a146ed2d-71de-4a72-957e-a144f9fbffde",
   "metadata": {},
   "outputs": [
    {
     "data": {
      "application/vnd.jupyter.widget-view+json": {
       "model_id": "90c4ef1b4b9342628c934b14a1087027",
       "version_major": 2,
       "version_minor": 0
      },
      "text/plain": [
       "  0%|          | 0/14 [00:00<?, ?it/s]"
      ]
     },
     "metadata": {},
     "output_type": "display_data"
    }
   ],
   "source": [
    "metrics = [PrecisionAtK(), F1Score()]\n",
    "\n",
    "tcnae_metrics = evaluate_tcnae(\n",
    "    all_series=all_series,\n",
    "    metrics=metrics,\n",
    "    params=tcn_ae_params,\n",
    ")"
   ]
  },
  {
   "cell_type": "code",
   "execution_count": null,
   "id": "16e124ed-954b-4c70-bbda-75c0978bfdfd",
   "metadata": {},
   "outputs": [],
   "source": []
  }
 ],
 "metadata": {
  "kernelspec": {
   "display_name": "Python 3 (ipykernel)",
   "language": "python",
   "name": "python3"
  },
  "language_info": {
   "codemirror_mode": {
    "name": "ipython",
    "version": 3
   },
   "file_extension": ".py",
   "mimetype": "text/x-python",
   "name": "python",
   "nbconvert_exporter": "python",
   "pygments_lexer": "ipython3",
   "version": "3.12.3"
  }
 },
 "nbformat": 4,
 "nbformat_minor": 5
}
