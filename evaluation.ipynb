{
 "cells": [
  {
   "cell_type": "markdown",
   "id": "61891f04-8b09-4eef-89f1-6386773acdbb",
   "metadata": {},
   "source": [
    "# Evaluation of the anomaly detection\n",
    "\n",
    "This notebook evaluates trained autoencoders\n",
    "\n",
    "---"
   ]
  },
  {
   "cell_type": "code",
   "execution_count": 27,
   "id": "fa7b9f12-db80-4bda-9dfc-6de1ac9623f5",
   "metadata": {},
   "outputs": [],
   "source": [
    "import numpy as np\n",
    "import pandas as pd\n",
    "import matplotlib.pyplot as plt\n",
    "from matplotlib.ticker import MaxNLocator\n",
    "from tqdm.notebook import tqdm\n",
    "\n",
    "from data_loading import TimeSeriesWithAnoms\n",
    "from params import TcnAeParams, tcn_ae_params, baseline_params\n",
    "from evaluation import EvaluationMetric, PrecisionAtK, F1Score, evaluate_model\n",
    "from train_models import prepare_data\n",
    "from detectors import SubsequenceAnomalyDetector, TcnAeDetector, RandomDetector, LofDetector"
   ]
  },
  {
   "cell_type": "markdown",
   "id": "37ab1aea-b7a9-467f-b393-89955eb057ce",
   "metadata": {},
   "source": [
    "### Load and prepare data\n",
    "\n",
    "We will load all time series and normalize them (we use the same function as in the training script)"
   ]
  },
  {
   "cell_type": "code",
   "execution_count": 2,
   "id": "b827a9a4-58e9-4ca0-8fed-80efa71d2195",
   "metadata": {},
   "outputs": [
    {
     "data": {
      "text/plain": [
       "TimeSeriesWithAnoms(name='SinusRW_Length_112000_AnomalyL_200_AnomalyN_60_NoisePerc_0', values=array([0.78267852, 0.77670079, 0.77072901, ..., 0.54603821, 0.54006643,\n",
       "       0.5340887 ]), annotations=[(1070, 1270), (3245, 3445), (5200, 5400), (6245, 6445), (7468, 7668), (10367, 10567), (11337, 11537), (13161, 13361), (13686, 13886), (14208, 14408), (16211, 16411), (19490, 19690), (23336, 23536), (24398, 24598), (28747, 28947), (30869, 31069), (31927, 32127), (33280, 33480), (35285, 35485), (38473, 38673), (43829, 44029), (45524, 45724), (48857, 49057), (49095, 49295), (50200, 50400), (51410, 51610), (52926, 53126), (56144, 56344), (60167, 60367), (62178, 62378), (63715, 63915), (63976, 64176), (66221, 66421), (69191, 69391), (69961, 70161), (72081, 72281), (72694, 72894), (73269, 73469), (75091, 75291), (76875, 77075), (77531, 77731), (84824, 85024), (85373, 85573), (87237, 87437), (89419, 89619), (90802, 91002), (94382, 94582), (95438, 95638), (95713, 95913), (96599, 96799), (97139, 97339), (97363, 97563), (98089, 98289), (102972, 103172), (103637, 103837), (104790, 104990), (106521, 106721), (108110, 108310), (109052, 109252), (110141, 110341)])"
      ]
     },
     "execution_count": 2,
     "metadata": {},
     "output_type": "execute_result"
    }
   ],
   "source": [
    "all_series = prepare_data()\n",
    "all_series[0]"
   ]
  },
  {
   "cell_type": "code",
   "execution_count": 3,
   "id": "dd303c5a-c975-41df-91a4-6c4ea0983951",
   "metadata": {},
   "outputs": [
    {
     "data": {
      "text/plain": [
       "14"
      ]
     },
     "execution_count": 3,
     "metadata": {},
     "output_type": "execute_result"
    }
   ],
   "source": [
    "# number of time series\n",
    "len(all_series)"
   ]
  },
  {
   "cell_type": "markdown",
   "id": "c1547813-e589-4fcc-a387-734bfb5549d2",
   "metadata": {},
   "source": [
    "### Run anomaly detection with baseline models\n",
    "\n",
    "First, we will examine anomaly detection quality with two baseline models:\n",
    "\n",
    "- _RandomDetector_ - returns random subsequences\n",
    "- _LofDetector_ - based on the well-known [Local Outlier Factor](https://scikit-learn.org/stable/auto_examples/neighbors/plot_lof_outlier_detection.html)\n",
    "anomaly detection algorithm for multidimensional data\n",
    "\n",
    "We will detect anomalies with both baseline models and calculate metrics for each time series."
   ]
  },
  {
   "cell_type": "code",
   "execution_count": 4,
   "id": "c9fed62f-a289-489b-a690-b8100a695b45",
   "metadata": {},
   "outputs": [],
   "source": [
    "def evaluate_baseline(\n",
    "    baseline_detector: SubsequenceAnomalyDetector,\n",
    "    all_series: list[TimeSeriesWithAnoms],\n",
    "    metrics: list[EvaluationMetric],\n",
    ") -> dict[str, dict[str, float]]:\n",
    "    \"\"\"Evaluate a baseline subsequence anomaly detection\n",
    "    model for each time series\n",
    "\n",
    "    Returns dict:\n",
    "    {series_name -> {metric_name -> metric_value}}\n",
    "    \"\"\"\n",
    "    return {\n",
    "        series.name: evaluate_model(\n",
    "            series, baseline_detector, metrics\n",
    "        )\n",
    "        for series in tqdm(all_series)\n",
    "    }"
   ]
  },
  {
   "cell_type": "code",
   "execution_count": 5,
   "id": "7deaca24-1d98-404b-ba52-c05de9f8db0d",
   "metadata": {},
   "outputs": [],
   "source": [
    "metrics = [PrecisionAtK(), F1Score()]"
   ]
  },
  {
   "cell_type": "code",
   "execution_count": 6,
   "id": "aec3de77-1df7-4f2b-9f2a-7e62b94bc03d",
   "metadata": {},
   "outputs": [
    {
     "data": {
      "application/vnd.jupyter.widget-view+json": {
       "model_id": "fa17b32e235e438ab5aa987c75040730",
       "version_major": 2,
       "version_minor": 0
      },
      "text/plain": [
       "  0%|          | 0/14 [00:00<?, ?it/s]"
      ]
     },
     "metadata": {},
     "output_type": "display_data"
    }
   ],
   "source": [
    "random_detector = RandomDetector()\n",
    "random_metrics = evaluate_baseline(\n",
    "    random_detector, all_series, metrics\n",
    ")"
   ]
  },
  {
   "cell_type": "code",
   "execution_count": 7,
   "id": "64fb5bae-fe2d-482b-9f41-ef21fb78d168",
   "metadata": {},
   "outputs": [
    {
     "data": {
      "application/vnd.jupyter.widget-view+json": {
       "model_id": "98f9421059194752b74fa7209b677065",
       "version_major": 2,
       "version_minor": 0
      },
      "text/plain": [
       "  0%|          | 0/14 [00:00<?, ?it/s]"
      ]
     },
     "metadata": {},
     "output_type": "display_data"
    }
   ],
   "source": [
    "lof_detector = LofDetector(\n",
    "    n_neighbors=baseline_params.lof_n_neighbors,\n",
    "    other_lof_params=baseline_params.lof_other_params,\n",
    ")\n",
    "lof_metrics = evaluate_baseline(\n",
    "    lof_detector, all_series, metrics\n",
    ")"
   ]
  },
  {
   "cell_type": "markdown",
   "id": "2d7ce1e5-dcba-4045-baf7-5b51d83f8842",
   "metadata": {},
   "source": [
    "### Run anomaly detection with TCN autoencoders\n",
    "\n",
    "We will perform the following operations, for each time series:\n",
    "\n",
    "- load trained model on the series\n",
    "- get pointwise reconstruction errors on the series\n",
    "- extract sliding windows from the errors and detect anomalous windows\n",
    "- calculate metrics"
   ]
  },
  {
   "cell_type": "code",
   "execution_count": 9,
   "id": "523c4e03-72e1-41cb-b689-a7e9f88934b5",
   "metadata": {},
   "outputs": [],
   "source": [
    "def evaluate_tcnae(\n",
    "    all_series: list[TimeSeriesWithAnoms],\n",
    "    metrics: list[EvaluationMetric],\n",
    "    params: TcnAeParams,\n",
    ") -> dict[str, dict[str, float]]:\n",
    "    \"\"\"Loads the TCN autoencoder model and evaluates detection for each series\n",
    "\n",
    "    Returns dict:\n",
    "    {series_name -> {metric_name -> metric_value}}\n",
    "    \"\"\"\n",
    "    series_metrics_dict: dict[str, dict[str, float]] = {}\n",
    "    for series in tqdm(all_series):\n",
    "        detector = TcnAeDetector.load(series, params)\n",
    "        series_metrics_dict[series.name] = evaluate_model(\n",
    "            series, detector, metrics\n",
    "        )\n",
    "    return series_metrics_dict"
   ]
  },
  {
   "cell_type": "code",
   "execution_count": 10,
   "id": "a146ed2d-71de-4a72-957e-a144f9fbffde",
   "metadata": {},
   "outputs": [
    {
     "data": {
      "application/vnd.jupyter.widget-view+json": {
       "model_id": "d89e8e2adb3047a5bec2657f18f4f6bf",
       "version_major": 2,
       "version_minor": 0
      },
      "text/plain": [
       "  0%|          | 0/14 [00:00<?, ?it/s]"
      ]
     },
     "metadata": {},
     "output_type": "display_data"
    }
   ],
   "source": [
    "tcnae_metrics = evaluate_tcnae(\n",
    "    all_series=all_series,\n",
    "    metrics=metrics,\n",
    "    params=tcn_ae_params,\n",
    ")"
   ]
  },
  {
   "cell_type": "code",
   "execution_count": null,
   "id": "084e2b2f-529f-46bf-b98d-7a04fcb88781",
   "metadata": {},
   "outputs": [],
   "source": [
    "tcnae_metrics"
   ]
  },
  {
   "cell_type": "markdown",
   "id": "4adb7851-a296-4a0c-bed4-4fc2aacb5ab0",
   "metadata": {},
   "source": [
    "### Present results\n",
    "\n",
    "We'll present evaluation metrics for each time series. Then, we will show summaries."
   ]
  },
  {
   "cell_type": "code",
   "execution_count": 15,
   "id": "6e7ff7bc-c712-47ef-b2e6-f187a884c9a2",
   "metadata": {},
   "outputs": [
    {
     "data": {
      "text/html": [
       "<div>\n",
       "<style scoped>\n",
       "    .dataframe tbody tr th:only-of-type {\n",
       "        vertical-align: middle;\n",
       "    }\n",
       "\n",
       "    .dataframe tbody tr th {\n",
       "        vertical-align: top;\n",
       "    }\n",
       "\n",
       "    .dataframe thead th {\n",
       "        text-align: right;\n",
       "    }\n",
       "</style>\n",
       "<table border=\"1\" class=\"dataframe\">\n",
       "  <thead>\n",
       "    <tr style=\"text-align: right;\">\n",
       "      <th></th>\n",
       "      <th>Random</th>\n",
       "      <th>LOF</th>\n",
       "      <th>TCN AE</th>\n",
       "    </tr>\n",
       "  </thead>\n",
       "  <tbody>\n",
       "    <tr>\n",
       "      <th>SinusRW_Length_112000_AnomalyL_200_AnomalyN_60_NoisePerc_0</th>\n",
       "      <td>0.250000</td>\n",
       "      <td>1.000000</td>\n",
       "      <td>0.933333</td>\n",
       "    </tr>\n",
       "    <tr>\n",
       "      <th>SinusRW_Length_106000_AnomalyL_100_AnomalyN_60_NoisePerc_0</th>\n",
       "      <td>0.133333</td>\n",
       "      <td>1.000000</td>\n",
       "      <td>0.966667</td>\n",
       "    </tr>\n",
       "    <tr>\n",
       "      <th>SinusRW_Length_104000_AnomalyL_200_AnomalyN_20_NoisePerc_0</th>\n",
       "      <td>0.050000</td>\n",
       "      <td>1.000000</td>\n",
       "      <td>1.000000</td>\n",
       "    </tr>\n",
       "    <tr>\n",
       "      <th>SinusRW_Length_112000_AnomalyL_200_AnomalyN_60_NoisePerc_5</th>\n",
       "      <td>0.133333</td>\n",
       "      <td>1.000000</td>\n",
       "      <td>1.000000</td>\n",
       "    </tr>\n",
       "    <tr>\n",
       "      <th>SinusRW_Length_148000_AnomalyL_800_AnomalyN_60_NoisePerc_0</th>\n",
       "      <td>0.483333</td>\n",
       "      <td>1.000000</td>\n",
       "      <td>1.000000</td>\n",
       "    </tr>\n",
       "    <tr>\n",
       "      <th>SinusRW_Length_124000_AnomalyL_400_AnomalyN_60_NoisePerc_0</th>\n",
       "      <td>0.400000</td>\n",
       "      <td>1.000000</td>\n",
       "      <td>1.000000</td>\n",
       "    </tr>\n",
       "    <tr>\n",
       "      <th>SinusRW_Length_116000_AnomalyL_200_AnomalyN_80_NoisePerc_0</th>\n",
       "      <td>0.287500</td>\n",
       "      <td>1.000000</td>\n",
       "      <td>1.000000</td>\n",
       "    </tr>\n",
       "    <tr>\n",
       "      <th>SinusRW_Length_108000_AnomalyL_200_AnomalyN_40_NoisePerc_0</th>\n",
       "      <td>0.050000</td>\n",
       "      <td>1.000000</td>\n",
       "      <td>1.000000</td>\n",
       "    </tr>\n",
       "    <tr>\n",
       "      <th>SinusRW_Length_120000_AnomalyL_200_AnomalyN_100_NoisePerc_0</th>\n",
       "      <td>0.250000</td>\n",
       "      <td>1.000000</td>\n",
       "      <td>1.000000</td>\n",
       "    </tr>\n",
       "    <tr>\n",
       "      <th>SinusRW_Length_112000_AnomalyL_200_AnomalyN_60_NoisePerc_20</th>\n",
       "      <td>0.233333</td>\n",
       "      <td>1.000000</td>\n",
       "      <td>1.000000</td>\n",
       "    </tr>\n",
       "    <tr>\n",
       "      <th>SinusRW_Length_112000_AnomalyL_200_AnomalyN_60_NoisePerc_15</th>\n",
       "      <td>0.100000</td>\n",
       "      <td>1.000000</td>\n",
       "      <td>1.000000</td>\n",
       "    </tr>\n",
       "    <tr>\n",
       "      <th>SinusRW_Length_112000_AnomalyL_200_AnomalyN_60_NoisePerc_10</th>\n",
       "      <td>0.233333</td>\n",
       "      <td>1.000000</td>\n",
       "      <td>1.000000</td>\n",
       "    </tr>\n",
       "    <tr>\n",
       "      <th>SinusRW_Length_112000_AnomalyL_200_AnomalyN_60_NoisePerc_25</th>\n",
       "      <td>0.300000</td>\n",
       "      <td>1.000000</td>\n",
       "      <td>1.000000</td>\n",
       "    </tr>\n",
       "    <tr>\n",
       "      <th>SinusRW_Length_196000_AnomalyL_1600_AnomalyN_60_NoisePerc_0</th>\n",
       "      <td>0.850000</td>\n",
       "      <td>0.966667</td>\n",
       "      <td>1.000000</td>\n",
       "    </tr>\n",
       "  </tbody>\n",
       "</table>\n",
       "</div>"
      ],
      "text/plain": [
       "                                                      Random       LOF  \\\n",
       "SinusRW_Length_112000_AnomalyL_200_AnomalyN_60_...  0.250000  1.000000   \n",
       "SinusRW_Length_106000_AnomalyL_100_AnomalyN_60_...  0.133333  1.000000   \n",
       "SinusRW_Length_104000_AnomalyL_200_AnomalyN_20_...  0.050000  1.000000   \n",
       "SinusRW_Length_112000_AnomalyL_200_AnomalyN_60_...  0.133333  1.000000   \n",
       "SinusRW_Length_148000_AnomalyL_800_AnomalyN_60_...  0.483333  1.000000   \n",
       "SinusRW_Length_124000_AnomalyL_400_AnomalyN_60_...  0.400000  1.000000   \n",
       "SinusRW_Length_116000_AnomalyL_200_AnomalyN_80_...  0.287500  1.000000   \n",
       "SinusRW_Length_108000_AnomalyL_200_AnomalyN_40_...  0.050000  1.000000   \n",
       "SinusRW_Length_120000_AnomalyL_200_AnomalyN_100...  0.250000  1.000000   \n",
       "SinusRW_Length_112000_AnomalyL_200_AnomalyN_60_...  0.233333  1.000000   \n",
       "SinusRW_Length_112000_AnomalyL_200_AnomalyN_60_...  0.100000  1.000000   \n",
       "SinusRW_Length_112000_AnomalyL_200_AnomalyN_60_...  0.233333  1.000000   \n",
       "SinusRW_Length_112000_AnomalyL_200_AnomalyN_60_...  0.300000  1.000000   \n",
       "SinusRW_Length_196000_AnomalyL_1600_AnomalyN_60...  0.850000  0.966667   \n",
       "\n",
       "                                                      TCN AE  \n",
       "SinusRW_Length_112000_AnomalyL_200_AnomalyN_60_...  0.933333  \n",
       "SinusRW_Length_106000_AnomalyL_100_AnomalyN_60_...  0.966667  \n",
       "SinusRW_Length_104000_AnomalyL_200_AnomalyN_20_...  1.000000  \n",
       "SinusRW_Length_112000_AnomalyL_200_AnomalyN_60_...  1.000000  \n",
       "SinusRW_Length_148000_AnomalyL_800_AnomalyN_60_...  1.000000  \n",
       "SinusRW_Length_124000_AnomalyL_400_AnomalyN_60_...  1.000000  \n",
       "SinusRW_Length_116000_AnomalyL_200_AnomalyN_80_...  1.000000  \n",
       "SinusRW_Length_108000_AnomalyL_200_AnomalyN_40_...  1.000000  \n",
       "SinusRW_Length_120000_AnomalyL_200_AnomalyN_100...  1.000000  \n",
       "SinusRW_Length_112000_AnomalyL_200_AnomalyN_60_...  1.000000  \n",
       "SinusRW_Length_112000_AnomalyL_200_AnomalyN_60_...  1.000000  \n",
       "SinusRW_Length_112000_AnomalyL_200_AnomalyN_60_...  1.000000  \n",
       "SinusRW_Length_112000_AnomalyL_200_AnomalyN_60_...  1.000000  \n",
       "SinusRW_Length_196000_AnomalyL_1600_AnomalyN_60...  1.000000  "
      ]
     },
     "execution_count": 15,
     "metadata": {},
     "output_type": "execute_result"
    }
   ],
   "source": [
    "precision_at_k_results = pd.DataFrame({\n",
    "    detector_name: pd.Series({k: v['precision@k'] for k,v in detector_metrics.items()})\n",
    "    for detector_name, detector_metrics in [\n",
    "        (\"Random\", random_metrics),\n",
    "        (\"LOF\", lof_metrics),\n",
    "        (\"TCN AE\", tcnae_metrics)\n",
    "    ]\n",
    "})\n",
    "precision_at_k_results"
   ]
  },
  {
   "cell_type": "code",
   "execution_count": 16,
   "id": "1a40f26b-7769-43ef-9b87-4ec48f3d50ef",
   "metadata": {},
   "outputs": [
    {
     "data": {
      "text/html": [
       "<div>\n",
       "<style scoped>\n",
       "    .dataframe tbody tr th:only-of-type {\n",
       "        vertical-align: middle;\n",
       "    }\n",
       "\n",
       "    .dataframe tbody tr th {\n",
       "        vertical-align: top;\n",
       "    }\n",
       "\n",
       "    .dataframe thead th {\n",
       "        text-align: right;\n",
       "    }\n",
       "</style>\n",
       "<table border=\"1\" class=\"dataframe\">\n",
       "  <thead>\n",
       "    <tr style=\"text-align: right;\">\n",
       "      <th></th>\n",
       "      <th>Random</th>\n",
       "      <th>LOF</th>\n",
       "      <th>TCN AE</th>\n",
       "    </tr>\n",
       "  </thead>\n",
       "  <tbody>\n",
       "    <tr>\n",
       "      <th>SinusRW_Length_112000_AnomalyL_200_AnomalyN_60_NoisePerc_0</th>\n",
       "      <td>0.116583</td>\n",
       "      <td>0.244583</td>\n",
       "      <td>0.673750</td>\n",
       "    </tr>\n",
       "    <tr>\n",
       "      <th>SinusRW_Length_106000_AnomalyL_100_AnomalyN_60_NoisePerc_0</th>\n",
       "      <td>0.072667</td>\n",
       "      <td>0.342333</td>\n",
       "      <td>0.500833</td>\n",
       "    </tr>\n",
       "    <tr>\n",
       "      <th>SinusRW_Length_104000_AnomalyL_200_AnomalyN_20_NoisePerc_0</th>\n",
       "      <td>0.003000</td>\n",
       "      <td>0.310000</td>\n",
       "      <td>0.623000</td>\n",
       "    </tr>\n",
       "    <tr>\n",
       "      <th>SinusRW_Length_112000_AnomalyL_200_AnomalyN_60_NoisePerc_5</th>\n",
       "      <td>0.056000</td>\n",
       "      <td>0.265083</td>\n",
       "      <td>0.423333</td>\n",
       "    </tr>\n",
       "    <tr>\n",
       "      <th>SinusRW_Length_148000_AnomalyL_800_AnomalyN_60_NoisePerc_0</th>\n",
       "      <td>0.278938</td>\n",
       "      <td>0.157604</td>\n",
       "      <td>0.536583</td>\n",
       "    </tr>\n",
       "    <tr>\n",
       "      <th>SinusRW_Length_124000_AnomalyL_400_AnomalyN_60_NoisePerc_0</th>\n",
       "      <td>0.231833</td>\n",
       "      <td>0.181417</td>\n",
       "      <td>0.705667</td>\n",
       "    </tr>\n",
       "    <tr>\n",
       "      <th>SinusRW_Length_116000_AnomalyL_200_AnomalyN_80_NoisePerc_0</th>\n",
       "      <td>0.160812</td>\n",
       "      <td>0.158938</td>\n",
       "      <td>0.747500</td>\n",
       "    </tr>\n",
       "    <tr>\n",
       "      <th>SinusRW_Length_108000_AnomalyL_200_AnomalyN_40_NoisePerc_0</th>\n",
       "      <td>0.034000</td>\n",
       "      <td>0.268750</td>\n",
       "      <td>0.730875</td>\n",
       "    </tr>\n",
       "    <tr>\n",
       "      <th>SinusRW_Length_120000_AnomalyL_200_AnomalyN_100_NoisePerc_0</th>\n",
       "      <td>0.128250</td>\n",
       "      <td>0.207900</td>\n",
       "      <td>0.711050</td>\n",
       "    </tr>\n",
       "    <tr>\n",
       "      <th>SinusRW_Length_112000_AnomalyL_200_AnomalyN_60_NoisePerc_20</th>\n",
       "      <td>0.116417</td>\n",
       "      <td>0.227500</td>\n",
       "      <td>0.430583</td>\n",
       "    </tr>\n",
       "    <tr>\n",
       "      <th>SinusRW_Length_112000_AnomalyL_200_AnomalyN_60_NoisePerc_15</th>\n",
       "      <td>0.045000</td>\n",
       "      <td>0.262750</td>\n",
       "      <td>0.462167</td>\n",
       "    </tr>\n",
       "    <tr>\n",
       "      <th>SinusRW_Length_112000_AnomalyL_200_AnomalyN_60_NoisePerc_10</th>\n",
       "      <td>0.143083</td>\n",
       "      <td>0.264250</td>\n",
       "      <td>0.312167</td>\n",
       "    </tr>\n",
       "    <tr>\n",
       "      <th>SinusRW_Length_112000_AnomalyL_200_AnomalyN_60_NoisePerc_25</th>\n",
       "      <td>0.164083</td>\n",
       "      <td>0.209833</td>\n",
       "      <td>0.359417</td>\n",
       "    </tr>\n",
       "    <tr>\n",
       "      <th>SinusRW_Length_196000_AnomalyL_1600_AnomalyN_60_NoisePerc_0</th>\n",
       "      <td>0.484156</td>\n",
       "      <td>0.231375</td>\n",
       "      <td>0.554417</td>\n",
       "    </tr>\n",
       "  </tbody>\n",
       "</table>\n",
       "</div>"
      ],
      "text/plain": [
       "                                                      Random       LOF  \\\n",
       "SinusRW_Length_112000_AnomalyL_200_AnomalyN_60_...  0.116583  0.244583   \n",
       "SinusRW_Length_106000_AnomalyL_100_AnomalyN_60_...  0.072667  0.342333   \n",
       "SinusRW_Length_104000_AnomalyL_200_AnomalyN_20_...  0.003000  0.310000   \n",
       "SinusRW_Length_112000_AnomalyL_200_AnomalyN_60_...  0.056000  0.265083   \n",
       "SinusRW_Length_148000_AnomalyL_800_AnomalyN_60_...  0.278938  0.157604   \n",
       "SinusRW_Length_124000_AnomalyL_400_AnomalyN_60_...  0.231833  0.181417   \n",
       "SinusRW_Length_116000_AnomalyL_200_AnomalyN_80_...  0.160812  0.158938   \n",
       "SinusRW_Length_108000_AnomalyL_200_AnomalyN_40_...  0.034000  0.268750   \n",
       "SinusRW_Length_120000_AnomalyL_200_AnomalyN_100...  0.128250  0.207900   \n",
       "SinusRW_Length_112000_AnomalyL_200_AnomalyN_60_...  0.116417  0.227500   \n",
       "SinusRW_Length_112000_AnomalyL_200_AnomalyN_60_...  0.045000  0.262750   \n",
       "SinusRW_Length_112000_AnomalyL_200_AnomalyN_60_...  0.143083  0.264250   \n",
       "SinusRW_Length_112000_AnomalyL_200_AnomalyN_60_...  0.164083  0.209833   \n",
       "SinusRW_Length_196000_AnomalyL_1600_AnomalyN_60...  0.484156  0.231375   \n",
       "\n",
       "                                                      TCN AE  \n",
       "SinusRW_Length_112000_AnomalyL_200_AnomalyN_60_...  0.673750  \n",
       "SinusRW_Length_106000_AnomalyL_100_AnomalyN_60_...  0.500833  \n",
       "SinusRW_Length_104000_AnomalyL_200_AnomalyN_20_...  0.623000  \n",
       "SinusRW_Length_112000_AnomalyL_200_AnomalyN_60_...  0.423333  \n",
       "SinusRW_Length_148000_AnomalyL_800_AnomalyN_60_...  0.536583  \n",
       "SinusRW_Length_124000_AnomalyL_400_AnomalyN_60_...  0.705667  \n",
       "SinusRW_Length_116000_AnomalyL_200_AnomalyN_80_...  0.747500  \n",
       "SinusRW_Length_108000_AnomalyL_200_AnomalyN_40_...  0.730875  \n",
       "SinusRW_Length_120000_AnomalyL_200_AnomalyN_100...  0.711050  \n",
       "SinusRW_Length_112000_AnomalyL_200_AnomalyN_60_...  0.430583  \n",
       "SinusRW_Length_112000_AnomalyL_200_AnomalyN_60_...  0.462167  \n",
       "SinusRW_Length_112000_AnomalyL_200_AnomalyN_60_...  0.312167  \n",
       "SinusRW_Length_112000_AnomalyL_200_AnomalyN_60_...  0.359417  \n",
       "SinusRW_Length_196000_AnomalyL_1600_AnomalyN_60...  0.554417  "
      ]
     },
     "execution_count": 16,
     "metadata": {},
     "output_type": "execute_result"
    }
   ],
   "source": [
    "f1_score_results = pd.DataFrame({\n",
    "    detector_name: pd.Series({k: v['f1-score'] for k,v in detector_metrics.items()})\n",
    "    for detector_name, detector_metrics in [\n",
    "        (\"Random\", random_metrics),\n",
    "        (\"LOF\", lof_metrics),\n",
    "        (\"TCN AE\", tcnae_metrics)\n",
    "    ]\n",
    "})\n",
    "f1_score_results"
   ]
  },
  {
   "cell_type": "code",
   "execution_count": 17,
   "id": "db1bebf3-044a-472f-8ab5-5b930b277cfb",
   "metadata": {},
   "outputs": [
    {
     "data": {
      "text/plain": [
       "Random    0.268155\n",
       "LOF       0.997619\n",
       "TCN AE    0.992857\n",
       "dtype: float64"
      ]
     },
     "execution_count": 17,
     "metadata": {},
     "output_type": "execute_result"
    }
   ],
   "source": [
    "precision_at_k_results.mean()"
   ]
  },
  {
   "cell_type": "code",
   "execution_count": 18,
   "id": "76595f21-367a-4d8f-a330-b3e7654469cd",
   "metadata": {},
   "outputs": [
    {
     "data": {
      "text/plain": [
       "Random    0.145344\n",
       "LOF       0.238023\n",
       "TCN AE    0.555096\n",
       "dtype: float64"
      ]
     },
     "execution_count": 18,
     "metadata": {},
     "output_type": "execute_result"
    }
   ],
   "source": [
    "f1_score_results.mean()"
   ]
  },
  {
   "cell_type": "code",
   "execution_count": 35,
   "id": "44fdbd47-6b62-40ac-a059-35860d35bc9d",
   "metadata": {},
   "outputs": [
    {
     "data": {
      "image/png": "[encoded data removed]",
      "text/plain": [
       "<Figure size 1700x500 with 3 Axes>"
      ]
     },
     "metadata": {},
     "output_type": "display_data"
    }
   ],
   "source": [
    "bins = 30\n",
    "\n",
    "fig, axes = plt.subplots(1, 3, figsize=(17, 5))\n",
    "fig.suptitle(\"Detector's Precision@k for series\")\n",
    "\n",
    "for detector_label, color, ax in zip(\n",
    "    [\"Random\", \"LOF\", \"TCN AE\"],\n",
    "    [\"orange\", \"green\", \"blue\"],\n",
    "    axes\n",
    "):\n",
    "    ax.set_title(detector_label)\n",
    "    ax.hist(\n",
    "        precision_at_k_results[detector_label],\n",
    "        bins=bins,\n",
    "        color=color,\n",
    "        range=(0,1)\n",
    "    )\n",
    "    ax.set_xlabel(\"precision@k\")\n",
    "    ax.set_ylabel(\"number of series\")\n",
    "    ax.yaxis.set_major_locator(MaxNLocator(integer=True))\n",
    "\n",
    "plt.savefig(\"img/precision_at_k.png\")"
   ]
  },
  {
   "cell_type": "code",
   "execution_count": 36,
   "id": "e190e72e-879d-4ac7-9027-269538cec49f",
   "metadata": {},
   "outputs": [
    {
     "data": {
      "image/png": "[encoded data removed]",
      "text/plain": [
       "<Figure size 1700x500 with 3 Axes>"
      ]
     },
     "metadata": {},
     "output_type": "display_data"
    }
   ],
   "source": [
    "bins = 30\n",
    "\n",
    "fig, axes = plt.subplots(1, 3, figsize=(17, 5))\n",
    "fig.suptitle(\"Detector's f1-score for series\")\n",
    "\n",
    "for detector_label, color, ax in zip(\n",
    "    [\"Random\", \"LOF\", \"TCN AE\"],\n",
    "    [\"orange\", \"green\", \"blue\"],\n",
    "    axes\n",
    "):\n",
    "    ax.set_title(detector_label)\n",
    "    ax.hist(\n",
    "        f1_score_results[detector_label],\n",
    "        bins=bins,\n",
    "        color=color,\n",
    "        range=(0,1)\n",
    "    )\n",
    "    ax.set_xlabel(\"f1-score\")\n",
    "    ax.set_ylabel(\"number of series\")\n",
    "    ax.yaxis.set_major_locator(MaxNLocator(integer=True))\n",
    "\n",
    "plt.savefig(\"img/f1_score.png\")"
   ]
  }
 ],
 "metadata": {
  "kernelspec": {
   "display_name": "Python 3 (ipykernel)",
   "language": "python",
   "name": "python3"
  },
  "language_info": {
   "codemirror_mode": {
    "name": "ipython",
    "version": 3
   },
   "file_extension": ".py",
   "mimetype": "text/x-python",
   "name": "python",
   "nbconvert_exporter": "python",
   "pygments_lexer": "ipython3",
   "version": "3.12.3"
  }
 },
 "nbformat": 4,
 "nbformat_minor": 5
}
