{
 "cells": [
  {
   "cell_type": "markdown",
   "id": "61891f04-8b09-4eef-89f1-6386773acdbb",
   "metadata": {},
   "source": [
    "# Evaluation of the anomaly detection\n",
    "\n",
    "This notebook evaluates trained autoencoders\n",
    "\n",
    "---"
   ]
  },
  {
   "cell_type": "code",
   "execution_count": null,
   "id": "fa7b9f12-db80-4bda-9dfc-6de1ac9623f5",
   "metadata": {},
   "outputs": [],
   "source": [
    "import numpy as np\n",
    "import pandas as pd\n",
    "import matplotlib.pyplot as plt\n",
    "from matplotlib.ticker import MaxNLocator\n",
    "from tqdm.notebook import tqdm\n",
    "\n",
    "from data_loading import TimeSeriesWithAnoms\n",
    "from params import TcnAeParams, tcn_ae_params, baseline_params\n",
    "from evaluation import EvaluationMetric, PrecisionAtK, F1Score, evaluate_model\n",
    "from train_models import prepare_data\n",
    "from detectors import SubsequenceAnomalyDetector, TcnAeDetector, RandomDetector, LofDetector"
   ]
  },
  {
   "cell_type": "code",
   "execution_count": null,
   "id": "5decab6b-2c08-4ef3-a789-c5ab83b7aa8f",
   "metadata": {},
   "outputs": [],
   "source": [
    "torch.manual_seed(tcn_ae_params[\"random_seed\"])"
   ]
  },
  {
   "cell_type": "markdown",
   "id": "37ab1aea-b7a9-467f-b393-89955eb057ce",
   "metadata": {},
   "source": [
    "### Load and prepare data\n",
    "\n",
    "We will load all time series and normalize them (we use the same function as in the training script)"
   ]
  },
  {
   "cell_type": "code",
   "execution_count": null,
   "id": "b827a9a4-58e9-4ca0-8fed-80efa71d2195",
   "metadata": {},
   "outputs": [],
   "source": [
    "all_series = prepare_data()\n",
    "all_series[0]"
   ]
  },
  {
   "cell_type": "code",
   "execution_count": null,
   "id": "dd303c5a-c975-41df-91a4-6c4ea0983951",
   "metadata": {},
   "outputs": [],
   "source": [
    "# number of time series\n",
    "len(all_series)"
   ]
  },
  {
   "cell_type": "markdown",
   "id": "c1547813-e589-4fcc-a387-734bfb5549d2",
   "metadata": {},
   "source": [
    "### Run anomaly detection with baseline models\n",
    "\n",
    "First, we will examine anomaly detection quality with two baseline models:\n",
    "\n",
    "- _RandomDetector_ - returns random subsequences\n",
    "- _LofDetector_ - based on the well-known [Local Outlier Factor](https://scikit-learn.org/stable/auto_examples/neighbors/plot_lof_outlier_detection.html)\n",
    "anomaly detection algorithm for multidimensional data\n",
    "\n",
    "We will detect anomalies with both baseline models and calculate metrics for each time series."
   ]
  },
  {
   "cell_type": "code",
   "execution_count": null,
   "id": "c9fed62f-a289-489b-a690-b8100a695b45",
   "metadata": {},
   "outputs": [],
   "source": [
    "def evaluate_baseline(\n",
    "    baseline_detector: SubsequenceAnomalyDetector,\n",
    "    all_series: list[TimeSeriesWithAnoms],\n",
    "    metrics: list[EvaluationMetric],\n",
    ") -> dict[str, dict[str, float]]:\n",
    "    \"\"\"Evaluate a baseline subsequence anomaly detection\n",
    "    model for each time series\n",
    "\n",
    "    Returns dict:\n",
    "    {series_name -> {metric_name -> metric_value}}\n",
    "    \"\"\"\n",
    "    return {\n",
    "        series.name: evaluate_model(\n",
    "            series, baseline_detector, metrics\n",
    "        )\n",
    "        for series in tqdm(all_series)\n",
    "    }"
   ]
  },
  {
   "cell_type": "code",
   "execution_count": null,
   "id": "7deaca24-1d98-404b-ba52-c05de9f8db0d",
   "metadata": {},
   "outputs": [],
   "source": [
    "metrics = [PrecisionAtK(), F1Score()]"
   ]
  },
  {
   "cell_type": "code",
   "execution_count": null,
   "id": "aec3de77-1df7-4f2b-9f2a-7e62b94bc03d",
   "metadata": {},
   "outputs": [],
   "source": [
    "random_detector = RandomDetector(random_seed=baseline_params[\"random_seed\"])\n",
    "random_metrics = evaluate_baseline(\n",
    "    random_detector, all_series, metrics\n",
    ")"
   ]
  },
  {
   "cell_type": "code",
   "execution_count": null,
   "id": "64fb5bae-fe2d-482b-9f41-ef21fb78d168",
   "metadata": {},
   "outputs": [],
   "source": [
    "lof_detector = LofDetector(\n",
    "    n_neighbors=baseline_params.lof_n_neighbors,\n",
    "    other_lof_params=baseline_params.lof_other_params,\n",
    ")\n",
    "lof_metrics = evaluate_baseline(\n",
    "    lof_detector, all_series, metrics\n",
    ")"
   ]
  },
  {
   "cell_type": "markdown",
   "id": "2d7ce1e5-dcba-4045-baf7-5b51d83f8842",
   "metadata": {},
   "source": [
    "### Run anomaly detection with TCN autoencoders\n",
    "\n",
    "We will perform the following operations, for each time series:\n",
    "\n",
    "- load trained model on the series\n",
    "- get pointwise reconstruction errors on the series\n",
    "- extract sliding windows from the errors and detect anomalous windows\n",
    "- calculate metrics"
   ]
  },
  {
   "cell_type": "code",
   "execution_count": null,
   "id": "523c4e03-72e1-41cb-b689-a7e9f88934b5",
   "metadata": {},
   "outputs": [],
   "source": [
    "def evaluate_tcnae(\n",
    "    all_series: list[TimeSeriesWithAnoms],\n",
    "    metrics: list[EvaluationMetric],\n",
    "    params: TcnAeParams,\n",
    ") -> dict[str, dict[str, float]]:\n",
    "    \"\"\"Loads the TCN autoencoder model and evaluates detection for each series\n",
    "\n",
    "    Returns dict:\n",
    "    {series_name -> {metric_name -> metric_value}}\n",
    "    \"\"\"\n",
    "    series_metrics_dict: dict[str, dict[str, float]] = {}\n",
    "    for series in tqdm(all_series):\n",
    "        detector = TcnAeDetector.load(series, params)\n",
    "        series_metrics_dict[series.name] = evaluate_model(\n",
    "            series, detector, metrics\n",
    "        )\n",
    "    return series_metrics_dict"
   ]
  },
  {
   "cell_type": "code",
   "execution_count": null,
   "id": "a146ed2d-71de-4a72-957e-a144f9fbffde",
   "metadata": {},
   "outputs": [],
   "source": [
    "tcnae_metrics = evaluate_tcnae(\n",
    "    all_series=all_series,\n",
    "    metrics=metrics,\n",
    "    params=tcn_ae_params,\n",
    ")"
   ]
  },
  {
   "cell_type": "code",
   "execution_count": null,
   "id": "084e2b2f-529f-46bf-b98d-7a04fcb88781",
   "metadata": {},
   "outputs": [],
   "source": [
    "tcnae_metrics"
   ]
  },
  {
   "cell_type": "markdown",
   "id": "4adb7851-a296-4a0c-bed4-4fc2aacb5ab0",
   "metadata": {},
   "source": [
    "### Present results\n",
    "\n",
    "We'll present evaluation metrics for each time series. Then, we will show summaries."
   ]
  },
  {
   "cell_type": "code",
   "execution_count": null,
   "id": "6e7ff7bc-c712-47ef-b2e6-f187a884c9a2",
   "metadata": {},
   "outputs": [],
   "source": [
    "precision_at_k_results = pd.DataFrame({\n",
    "    detector_name: pd.Series({k: v['precision@k'] for k,v in detector_metrics.items()})\n",
    "    for detector_name, detector_metrics in [\n",
    "        (\"Random\", random_metrics),\n",
    "        (\"LOF\", lof_metrics),\n",
    "        (\"TCN AE\", tcnae_metrics)\n",
    "    ]\n",
    "})\n",
    "precision_at_k_results"
   ]
  },
  {
   "cell_type": "code",
   "execution_count": null,
   "id": "1a40f26b-7769-43ef-9b87-4ec48f3d50ef",
   "metadata": {},
   "outputs": [],
   "source": [
    "f1_score_results = pd.DataFrame({\n",
    "    detector_name: pd.Series({k: v['f1-score'] for k,v in detector_metrics.items()})\n",
    "    for detector_name, detector_metrics in [\n",
    "        (\"Random\", random_metrics),\n",
    "        (\"LOF\", lof_metrics),\n",
    "        (\"TCN AE\", tcnae_metrics)\n",
    "    ]\n",
    "})\n",
    "f1_score_results"
   ]
  },
  {
   "cell_type": "code",
   "execution_count": null,
   "id": "db1bebf3-044a-472f-8ab5-5b930b277cfb",
   "metadata": {},
   "outputs": [],
   "source": [
    "precision_at_k_results.mean()"
   ]
  },
  {
   "cell_type": "code",
   "execution_count": null,
   "id": "76595f21-367a-4d8f-a330-b3e7654469cd",
   "metadata": {},
   "outputs": [],
   "source": [
    "f1_score_results.mean()"
   ]
  },
  {
   "cell_type": "code",
   "execution_count": null,
   "id": "44fdbd47-6b62-40ac-a059-35860d35bc9d",
   "metadata": {},
   "outputs": [],
   "source": [
    "bins = 30\n",
    "\n",
    "fig, axes = plt.subplots(1, 3, figsize=(17, 5))\n",
    "fig.suptitle(\"Detector's Precision@k for series\")\n",
    "\n",
    "for detector_label, color, ax in zip(\n",
    "    [\"Random\", \"LOF\", \"TCN AE\"],\n",
    "    [\"orange\", \"green\", \"blue\"],\n",
    "    axes\n",
    "):\n",
    "    ax.set_title(detector_label)\n",
    "    ax.hist(\n",
    "        precision_at_k_results[detector_label],\n",
    "        bins=bins,\n",
    "        color=color,\n",
    "        range=(0,1)\n",
    "    )\n",
    "    ax.set_xlabel(\"precision@k\")\n",
    "    ax.set_ylabel(\"number of series\")\n",
    "    ax.yaxis.set_major_locator(MaxNLocator(integer=True))\n",
    "\n",
    "plt.savefig(\"img/precision_at_k.png\")"
   ]
  },
  {
   "cell_type": "code",
   "execution_count": null,
   "id": "e190e72e-879d-4ac7-9027-269538cec49f",
   "metadata": {},
   "outputs": [],
   "source": [
    "bins = 30\n",
    "\n",
    "fig, axes = plt.subplots(1, 3, figsize=(17, 5))\n",
    "fig.suptitle(\"Detector's f1-score for series\")\n",
    "\n",
    "for detector_label, color, ax in zip(\n",
    "    [\"Random\", \"LOF\", \"TCN AE\"],\n",
    "    [\"orange\", \"green\", \"blue\"],\n",
    "    axes\n",
    "):\n",
    "    ax.set_title(detector_label)\n",
    "    ax.hist(\n",
    "        f1_score_results[detector_label],\n",
    "        bins=bins,\n",
    "        color=color,\n",
    "        range=(0,1)\n",
    "    )\n",
    "    ax.set_xlabel(\"f1-score\")\n",
    "    ax.set_ylabel(\"number of series\")\n",
    "    ax.yaxis.set_major_locator(MaxNLocator(integer=True))\n",
    "\n",
    "plt.savefig(\"img/f1_score.png\")"
   ]
  }
 ],
 "metadata": {
  "kernelspec": {
   "display_name": "Python 3 (ipykernel)",
   "language": "python",
   "name": "python3"
  },
  "language_info": {
   "codemirror_mode": {
    "name": "ipython",
    "version": 3
   },
   "file_extension": ".py",
   "mimetype": "text/x-python",
   "name": "python",
   "nbconvert_exporter": "python",
   "pygments_lexer": "ipython3",
   "version": "3.12.3"
  }
 },
 "nbformat": 4,
 "nbformat_minor": 5
}
