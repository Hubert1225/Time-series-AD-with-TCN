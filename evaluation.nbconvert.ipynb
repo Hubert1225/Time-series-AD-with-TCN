{
 "cells": [
  {
   "cell_type": "markdown",
   "id": "61891f04-8b09-4eef-89f1-6386773acdbb",
   "metadata": {},
   "source": [
    "# Evaluation of the anomaly detection\n",
    "\n",
    "This notebook evaluates trained autoencoders\n",
    "\n",
    "---"
   ]
  },
  {
   "cell_type": "code",
   "execution_count": 1,
   "id": "fa7b9f12-db80-4bda-9dfc-6de1ac9623f5",
   "metadata": {
    "execution": {
     "iopub.execute_input": "2024-11-16T12:20:51.567594Z",
     "iopub.status.busy": "2024-11-16T12:20:51.567393Z",
     "iopub.status.idle": "2024-11-16T12:20:54.078306Z",
     "shell.execute_reply": "2024-11-16T12:20:54.077609Z"
    }
   },
   "outputs": [],
   "source": [
    "import numpy as np\n",
    "import pandas as pd\n",
    "import torch\n",
    "import matplotlib.pyplot as plt\n",
    "from matplotlib.ticker import MaxNLocator\n",
    "from tqdm.notebook import tqdm\n",
    "\n",
    "from data_loading import TimeSeriesWithAnoms\n",
    "from params import TcnAeParams, tcn_ae_params, baseline_params\n",
    "from evaluation import EvaluationMetric, PrecisionAtK, F1Score, evaluate_model\n",
    "from train_models import prepare_data\n",
    "from detectors import SubsequenceAnomalyDetector, TcnAeDetector, RandomDetector, LofDetector"
   ]
  },
  {
   "cell_type": "code",
   "execution_count": 2,
   "id": "5decab6b-2c08-4ef3-a789-c5ab83b7aa8f",
   "metadata": {
    "execution": {
     "iopub.execute_input": "2024-11-16T12:20:54.080087Z",
     "iopub.status.busy": "2024-11-16T12:20:54.079838Z",
     "iopub.status.idle": "2024-11-16T12:20:54.085084Z",
     "shell.execute_reply": "2024-11-16T12:20:54.084736Z"
    }
   },
   "outputs": [
    {
     "data": {
      "text/plain": [
       "<torch._C.Generator at 0x7bc021542a50>"
      ]
     },
     "execution_count": 2,
     "metadata": {},
     "output_type": "execute_result"
    }
   ],
   "source": [
    "torch.manual_seed(tcn_ae_params.random_seed)"
   ]
  },
  {
   "cell_type": "markdown",
   "id": "37ab1aea-b7a9-467f-b393-89955eb057ce",
   "metadata": {},
   "source": [
    "### Load and prepare data\n",
    "\n",
    "We will load all time series and normalize them (we use the same function as in the training script)"
   ]
  },
  {
   "cell_type": "code",
   "execution_count": 3,
   "id": "b827a9a4-58e9-4ca0-8fed-80efa71d2195",
   "metadata": {
    "execution": {
     "iopub.execute_input": "2024-11-16T12:20:54.086364Z",
     "iopub.status.busy": "2024-11-16T12:20:54.086242Z",
     "iopub.status.idle": "2024-11-16T12:20:54.276139Z",
     "shell.execute_reply": "2024-11-16T12:20:54.275678Z"
    }
   },
   "outputs": [
    {
     "data": {
      "text/plain": [
       "TimeSeriesWithAnoms(name='SinusRW_Length_112000_AnomalyL_200_AnomalyN_60_NoisePerc_0', values=array([0.78267852, 0.77670079, 0.77072901, ..., 0.54603821, 0.54006643,\n",
       "       0.5340887 ]), annotations=[(1070, 1270), (3245, 3445), (5200, 5400), (6245, 6445), (7468, 7668), (10367, 10567), (11337, 11537), (13161, 13361), (13686, 13886), (14208, 14408), (16211, 16411), (19490, 19690), (23336, 23536), (24398, 24598), (28747, 28947), (30869, 31069), (31927, 32127), (33280, 33480), (35285, 35485), (38473, 38673), (43829, 44029), (45524, 45724), (48857, 49057), (49095, 49295), (50200, 50400), (51410, 51610), (52926, 53126), (56144, 56344), (60167, 60367), (62178, 62378), (63715, 63915), (63976, 64176), (66221, 66421), (69191, 69391), (69961, 70161), (72081, 72281), (72694, 72894), (73269, 73469), (75091, 75291), (76875, 77075), (77531, 77731), (84824, 85024), (85373, 85573), (87237, 87437), (89419, 89619), (90802, 91002), (94382, 94582), (95438, 95638), (95713, 95913), (96599, 96799), (97139, 97339), (97363, 97563), (98089, 98289), (102972, 103172), (103637, 103837), (104790, 104990), (106521, 106721), (108110, 108310), (109052, 109252), (110141, 110341)])"
      ]
     },
     "execution_count": 3,
     "metadata": {},
     "output_type": "execute_result"
    }
   ],
   "source": [
    "all_series = prepare_data()\n",
    "all_series[0]"
   ]
  },
  {
   "cell_type": "code",
   "execution_count": 4,
   "id": "dd303c5a-c975-41df-91a4-6c4ea0983951",
   "metadata": {
    "execution": {
     "iopub.execute_input": "2024-11-16T12:20:54.277539Z",
     "iopub.status.busy": "2024-11-16T12:20:54.277397Z",
     "iopub.status.idle": "2024-11-16T12:20:54.280123Z",
     "shell.execute_reply": "2024-11-16T12:20:54.279855Z"
    }
   },
   "outputs": [
    {
     "data": {
      "text/plain": [
       "14"
      ]
     },
     "execution_count": 4,
     "metadata": {},
     "output_type": "execute_result"
    }
   ],
   "source": [
    "# number of time series\n",
    "len(all_series)"
   ]
  },
  {
   "cell_type": "markdown",
   "id": "c1547813-e589-4fcc-a387-734bfb5549d2",
   "metadata": {},
   "source": [
    "### Run anomaly detection with baseline models\n",
    "\n",
    "First, we will examine anomaly detection quality with two baseline models:\n",
    "\n",
    "- _RandomDetector_ - returns random subsequences\n",
    "- _LofDetector_ - based on the well-known [Local Outlier Factor](https://scikit-learn.org/stable/auto_examples/neighbors/plot_lof_outlier_detection.html)\n",
    "anomaly detection algorithm for multidimensional data\n",
    "\n",
    "We will detect anomalies with both baseline models and calculate metrics for each time series."
   ]
  },
  {
   "cell_type": "code",
   "execution_count": 5,
   "id": "c9fed62f-a289-489b-a690-b8100a695b45",
   "metadata": {
    "execution": {
     "iopub.execute_input": "2024-11-16T12:20:54.281327Z",
     "iopub.status.busy": "2024-11-16T12:20:54.281205Z",
     "iopub.status.idle": "2024-11-16T12:20:54.283656Z",
     "shell.execute_reply": "2024-11-16T12:20:54.283330Z"
    }
   },
   "outputs": [],
   "source": [
    "def evaluate_baseline(\n",
    "    baseline_detector: SubsequenceAnomalyDetector,\n",
    "    all_series: list[TimeSeriesWithAnoms],\n",
    "    metrics: list[EvaluationMetric],\n",
    ") -> dict[str, dict[str, float]]:\n",
    "    \"\"\"Evaluate a baseline subsequence anomaly detection\n",
    "    model for each time series\n",
    "\n",
    "    Returns dict:\n",
    "    {series_name -> {metric_name -> metric_value}}\n",
    "    \"\"\"\n",
    "    return {\n",
    "        series.name: evaluate_model(\n",
    "            series, baseline_detector, metrics\n",
    "        )\n",
    "        for series in tqdm(all_series)\n",
    "    }"
   ]
  },
  {
   "cell_type": "code",
   "execution_count": 6,
   "id": "7deaca24-1d98-404b-ba52-c05de9f8db0d",
   "metadata": {
    "execution": {
     "iopub.execute_input": "2024-11-16T12:20:54.284789Z",
     "iopub.status.busy": "2024-11-16T12:20:54.284669Z",
     "iopub.status.idle": "2024-11-16T12:20:54.286627Z",
     "shell.execute_reply": "2024-11-16T12:20:54.286283Z"
    }
   },
   "outputs": [],
   "source": [
    "metrics = [PrecisionAtK(), F1Score()]"
   ]
  },
  {
   "cell_type": "code",
   "execution_count": 7,
   "id": "aec3de77-1df7-4f2b-9f2a-7e62b94bc03d",
   "metadata": {
    "execution": {
     "iopub.execute_input": "2024-11-16T12:20:54.287798Z",
     "iopub.status.busy": "2024-11-16T12:20:54.287676Z",
     "iopub.status.idle": "2024-11-16T12:20:54.648026Z",
     "shell.execute_reply": "2024-11-16T12:20:54.647603Z"
    }
   },
   "outputs": [
    {
     "data": {
      "application/vnd.jupyter.widget-view+json": {
       "model_id": "1420200f92474b94a9172a02d16a8902",
       "version_major": 2,
       "version_minor": 0
      },
      "text/plain": [
       "  0%|          | 0/14 [00:00<?, ?it/s]"
      ]
     },
     "metadata": {},
     "output_type": "display_data"
    }
   ],
   "source": [
    "random_detector = RandomDetector(random_seed=baseline_params.random_seed)\n",
    "random_metrics = evaluate_baseline(\n",
    "    random_detector, all_series, metrics\n",
    ")"
   ]
  },
  {
   "cell_type": "code",
   "execution_count": 8,
   "id": "64fb5bae-fe2d-482b-9f41-ef21fb78d168",
   "metadata": {
    "execution": {
     "iopub.execute_input": "2024-11-16T12:20:54.649521Z",
     "iopub.status.busy": "2024-11-16T12:20:54.649382Z",
     "iopub.status.idle": "2024-11-16T12:38:27.784435Z",
     "shell.execute_reply": "2024-11-16T12:38:27.783996Z"
    }
   },
   "outputs": [
    {
     "data": {
      "application/vnd.jupyter.widget-view+json": {
       "model_id": "270648454afc490d80908185cfd7a145",
       "version_major": 2,
       "version_minor": 0
      },
      "text/plain": [
       "  0%|          | 0/14 [00:00<?, ?it/s]"
      ]
     },
     "metadata": {},
     "output_type": "display_data"
    }
   ],
   "source": [
    "lof_detector = LofDetector(\n",
    "    n_neighbors=baseline_params.lof_n_neighbors,\n",
    "    other_lof_params=baseline_params.lof_other_params,\n",
    ")\n",
    "lof_metrics = evaluate_baseline(\n",
    "    lof_detector, all_series, metrics\n",
    ")"
   ]
  },
  {
   "cell_type": "markdown",
   "id": "2d7ce1e5-dcba-4045-baf7-5b51d83f8842",
   "metadata": {},
   "source": [
    "### Run anomaly detection with TCN autoencoders\n",
    "\n",
    "We will perform the following operations, for each time series:\n",
    "\n",
    "- load trained model on the series\n",
    "- get pointwise reconstruction errors on the series\n",
    "- extract sliding windows from the errors and detect anomalous windows\n",
    "- calculate metrics"
   ]
  },
  {
   "cell_type": "code",
   "execution_count": 9,
   "id": "523c4e03-72e1-41cb-b689-a7e9f88934b5",
   "metadata": {
    "execution": {
     "iopub.execute_input": "2024-11-16T12:38:27.785930Z",
     "iopub.status.busy": "2024-11-16T12:38:27.785791Z",
     "iopub.status.idle": "2024-11-16T12:38:27.788643Z",
     "shell.execute_reply": "2024-11-16T12:38:27.788285Z"
    }
   },
   "outputs": [],
   "source": [
    "def evaluate_tcnae(\n",
    "    all_series: list[TimeSeriesWithAnoms],\n",
    "    metrics: list[EvaluationMetric],\n",
    "    params: TcnAeParams,\n",
    ") -> dict[str, dict[str, float]]:\n",
    "    \"\"\"Loads the TCN autoencoder model and evaluates detection for each series\n",
    "\n",
    "    Returns dict:\n",
    "    {series_name -> {metric_name -> metric_value}}\n",
    "    \"\"\"\n",
    "    series_metrics_dict: dict[str, dict[str, float]] = {}\n",
    "    for series in tqdm(all_series):\n",
    "        detector = TcnAeDetector.load(series, params)\n",
    "        series_metrics_dict[series.name] = evaluate_model(\n",
    "            series, detector, metrics\n",
    "        )\n",
    "    return series_metrics_dict"
   ]
  },
  {
   "cell_type": "code",
   "execution_count": 10,
   "id": "a146ed2d-71de-4a72-957e-a144f9fbffde",
   "metadata": {
    "execution": {
     "iopub.execute_input": "2024-11-16T12:38:27.789855Z",
     "iopub.status.busy": "2024-11-16T12:38:27.789728Z",
     "iopub.status.idle": "2024-11-16T12:40:04.558918Z",
     "shell.execute_reply": "2024-11-16T12:40:04.558519Z"
    }
   },
   "outputs": [
    {
     "data": {
      "application/vnd.jupyter.widget-view+json": {
       "model_id": "3733f2725273421eab981e91e3b95234",
       "version_major": 2,
       "version_minor": 0
      },
      "text/plain": [
       "  0%|          | 0/14 [00:00<?, ?it/s]"
      ]
     },
     "metadata": {},
     "output_type": "display_data"
    }
   ],
   "source": [
    "tcnae_metrics = evaluate_tcnae(\n",
    "    all_series=all_series,\n",
    "    metrics=metrics,\n",
    "    params=tcn_ae_params,\n",
    ")"
   ]
  },
  {
   "cell_type": "code",
   "execution_count": 11,
   "id": "084e2b2f-529f-46bf-b98d-7a04fcb88781",
   "metadata": {
    "execution": {
     "iopub.execute_input": "2024-11-16T12:40:04.560439Z",
     "iopub.status.busy": "2024-11-16T12:40:04.560287Z",
     "iopub.status.idle": "2024-11-16T12:40:04.563866Z",
     "shell.execute_reply": "2024-11-16T12:40:04.563423Z"
    }
   },
   "outputs": [
    {
     "data": {
      "text/plain": [
       "{'SinusRW_Length_112000_AnomalyL_200_AnomalyN_60_NoisePerc_0': {'precision@k': 1.0,\n",
       "  'f1-score': np.float64(0.78325)},\n",
       " 'SinusRW_Length_106000_AnomalyL_100_AnomalyN_60_NoisePerc_0': {'precision@k': 0.9833333333333333,\n",
       "  'f1-score': np.float64(0.5258333333333334)},\n",
       " 'SinusRW_Length_104000_AnomalyL_200_AnomalyN_20_NoisePerc_0': {'precision@k': 0.9,\n",
       "  'f1-score': np.float64(0.64975)},\n",
       " 'SinusRW_Length_112000_AnomalyL_200_AnomalyN_60_NoisePerc_5': {'precision@k': 1.0,\n",
       "  'f1-score': np.float64(0.42333333333333334)},\n",
       " 'SinusRW_Length_148000_AnomalyL_800_AnomalyN_60_NoisePerc_0': {'precision@k': 1.0,\n",
       "  'f1-score': np.float64(0.5366041666666667)},\n",
       " 'SinusRW_Length_124000_AnomalyL_400_AnomalyN_60_NoisePerc_0': {'precision@k': 1.0,\n",
       "  'f1-score': np.float64(0.7089166666666666)},\n",
       " 'SinusRW_Length_116000_AnomalyL_200_AnomalyN_80_NoisePerc_0': {'precision@k': 1.0,\n",
       "  'f1-score': np.float64(0.7475)},\n",
       " 'SinusRW_Length_108000_AnomalyL_200_AnomalyN_40_NoisePerc_0': {'precision@k': 0.875,\n",
       "  'f1-score': np.float64(0.587875)},\n",
       " 'SinusRW_Length_120000_AnomalyL_200_AnomalyN_100_NoisePerc_0': {'precision@k': 1.0,\n",
       "  'f1-score': np.float64(0.71105)},\n",
       " 'SinusRW_Length_112000_AnomalyL_200_AnomalyN_60_NoisePerc_20': {'precision@k': 1.0,\n",
       "  'f1-score': np.float64(0.39225)},\n",
       " 'SinusRW_Length_112000_AnomalyL_200_AnomalyN_60_NoisePerc_15': {'precision@k': 1.0,\n",
       "  'f1-score': np.float64(0.3636666666666667)},\n",
       " 'SinusRW_Length_112000_AnomalyL_200_AnomalyN_60_NoisePerc_10': {'precision@k': 1.0,\n",
       "  'f1-score': np.float64(0.31216666666666665)},\n",
       " 'SinusRW_Length_112000_AnomalyL_200_AnomalyN_60_NoisePerc_25': {'precision@k': 1.0,\n",
       "  'f1-score': np.float64(0.3085)},\n",
       " 'SinusRW_Length_196000_AnomalyL_1600_AnomalyN_60_NoisePerc_0': {'precision@k': 0.9833333333333333,\n",
       "  'f1-score': np.float64(0.5599583333333333)}}"
      ]
     },
     "execution_count": 11,
     "metadata": {},
     "output_type": "execute_result"
    }
   ],
   "source": [
    "tcnae_metrics"
   ]
  },
  {
   "cell_type": "markdown",
   "id": "4adb7851-a296-4a0c-bed4-4fc2aacb5ab0",
   "metadata": {},
   "source": [
    "### Present results\n",
    "\n",
    "We'll present evaluation metrics for each time series. Then, we will show summaries."
   ]
  },
  {
   "cell_type": "code",
   "execution_count": 12,
   "id": "6e7ff7bc-c712-47ef-b2e6-f187a884c9a2",
   "metadata": {
    "execution": {
     "iopub.execute_input": "2024-11-16T12:40:04.565234Z",
     "iopub.status.busy": "2024-11-16T12:40:04.565112Z",
     "iopub.status.idle": "2024-11-16T12:40:04.579045Z",
     "shell.execute_reply": "2024-11-16T12:40:04.578710Z"
    }
   },
   "outputs": [
    {
     "data": {
      "text/html": [
       "<div>\n",
       "<style scoped>\n",
       "    .dataframe tbody tr th:only-of-type {\n",
       "        vertical-align: middle;\n",
       "    }\n",
       "\n",
       "    .dataframe tbody tr th {\n",
       "        vertical-align: top;\n",
       "    }\n",
       "\n",
       "    .dataframe thead th {\n",
       "        text-align: right;\n",
       "    }\n",
       "</style>\n",
       "<table border=\"1\" class=\"dataframe\">\n",
       "  <thead>\n",
       "    <tr style=\"text-align: right;\">\n",
       "      <th></th>\n",
       "      <th>Random</th>\n",
       "      <th>LOF</th>\n",
       "      <th>TCN AE</th>\n",
       "    </tr>\n",
       "  </thead>\n",
       "  <tbody>\n",
       "    <tr>\n",
       "      <th>SinusRW_Length_112000_AnomalyL_200_AnomalyN_60_NoisePerc_0</th>\n",
       "      <td>0.200000</td>\n",
       "      <td>1.000000</td>\n",
       "      <td>1.000000</td>\n",
       "    </tr>\n",
       "    <tr>\n",
       "      <th>SinusRW_Length_106000_AnomalyL_100_AnomalyN_60_NoisePerc_0</th>\n",
       "      <td>0.116667</td>\n",
       "      <td>1.000000</td>\n",
       "      <td>0.983333</td>\n",
       "    </tr>\n",
       "    <tr>\n",
       "      <th>SinusRW_Length_104000_AnomalyL_200_AnomalyN_20_NoisePerc_0</th>\n",
       "      <td>0.100000</td>\n",
       "      <td>1.000000</td>\n",
       "      <td>0.900000</td>\n",
       "    </tr>\n",
       "    <tr>\n",
       "      <th>SinusRW_Length_112000_AnomalyL_200_AnomalyN_60_NoisePerc_5</th>\n",
       "      <td>0.183333</td>\n",
       "      <td>1.000000</td>\n",
       "      <td>1.000000</td>\n",
       "    </tr>\n",
       "    <tr>\n",
       "      <th>SinusRW_Length_148000_AnomalyL_800_AnomalyN_60_NoisePerc_0</th>\n",
       "      <td>0.600000</td>\n",
       "      <td>1.000000</td>\n",
       "      <td>1.000000</td>\n",
       "    </tr>\n",
       "    <tr>\n",
       "      <th>SinusRW_Length_124000_AnomalyL_400_AnomalyN_60_NoisePerc_0</th>\n",
       "      <td>0.433333</td>\n",
       "      <td>1.000000</td>\n",
       "      <td>1.000000</td>\n",
       "    </tr>\n",
       "    <tr>\n",
       "      <th>SinusRW_Length_116000_AnomalyL_200_AnomalyN_80_NoisePerc_0</th>\n",
       "      <td>0.275000</td>\n",
       "      <td>1.000000</td>\n",
       "      <td>1.000000</td>\n",
       "    </tr>\n",
       "    <tr>\n",
       "      <th>SinusRW_Length_108000_AnomalyL_200_AnomalyN_40_NoisePerc_0</th>\n",
       "      <td>0.150000</td>\n",
       "      <td>1.000000</td>\n",
       "      <td>0.875000</td>\n",
       "    </tr>\n",
       "    <tr>\n",
       "      <th>SinusRW_Length_120000_AnomalyL_200_AnomalyN_100_NoisePerc_0</th>\n",
       "      <td>0.290000</td>\n",
       "      <td>1.000000</td>\n",
       "      <td>1.000000</td>\n",
       "    </tr>\n",
       "    <tr>\n",
       "      <th>SinusRW_Length_112000_AnomalyL_200_AnomalyN_60_NoisePerc_20</th>\n",
       "      <td>0.200000</td>\n",
       "      <td>1.000000</td>\n",
       "      <td>1.000000</td>\n",
       "    </tr>\n",
       "    <tr>\n",
       "      <th>SinusRW_Length_112000_AnomalyL_200_AnomalyN_60_NoisePerc_15</th>\n",
       "      <td>0.300000</td>\n",
       "      <td>1.000000</td>\n",
       "      <td>1.000000</td>\n",
       "    </tr>\n",
       "    <tr>\n",
       "      <th>SinusRW_Length_112000_AnomalyL_200_AnomalyN_60_NoisePerc_10</th>\n",
       "      <td>0.116667</td>\n",
       "      <td>1.000000</td>\n",
       "      <td>1.000000</td>\n",
       "    </tr>\n",
       "    <tr>\n",
       "      <th>SinusRW_Length_112000_AnomalyL_200_AnomalyN_60_NoisePerc_25</th>\n",
       "      <td>0.183333</td>\n",
       "      <td>1.000000</td>\n",
       "      <td>1.000000</td>\n",
       "    </tr>\n",
       "    <tr>\n",
       "      <th>SinusRW_Length_196000_AnomalyL_1600_AnomalyN_60_NoisePerc_0</th>\n",
       "      <td>0.850000</td>\n",
       "      <td>0.966667</td>\n",
       "      <td>0.983333</td>\n",
       "    </tr>\n",
       "  </tbody>\n",
       "</table>\n",
       "</div>"
      ],
      "text/plain": [
       "                                                      Random       LOF  \\\n",
       "SinusRW_Length_112000_AnomalyL_200_AnomalyN_60_...  0.200000  1.000000   \n",
       "SinusRW_Length_106000_AnomalyL_100_AnomalyN_60_...  0.116667  1.000000   \n",
       "SinusRW_Length_104000_AnomalyL_200_AnomalyN_20_...  0.100000  1.000000   \n",
       "SinusRW_Length_112000_AnomalyL_200_AnomalyN_60_...  0.183333  1.000000   \n",
       "SinusRW_Length_148000_AnomalyL_800_AnomalyN_60_...  0.600000  1.000000   \n",
       "SinusRW_Length_124000_AnomalyL_400_AnomalyN_60_...  0.433333  1.000000   \n",
       "SinusRW_Length_116000_AnomalyL_200_AnomalyN_80_...  0.275000  1.000000   \n",
       "SinusRW_Length_108000_AnomalyL_200_AnomalyN_40_...  0.150000  1.000000   \n",
       "SinusRW_Length_120000_AnomalyL_200_AnomalyN_100...  0.290000  1.000000   \n",
       "SinusRW_Length_112000_AnomalyL_200_AnomalyN_60_...  0.200000  1.000000   \n",
       "SinusRW_Length_112000_AnomalyL_200_AnomalyN_60_...  0.300000  1.000000   \n",
       "SinusRW_Length_112000_AnomalyL_200_AnomalyN_60_...  0.116667  1.000000   \n",
       "SinusRW_Length_112000_AnomalyL_200_AnomalyN_60_...  0.183333  1.000000   \n",
       "SinusRW_Length_196000_AnomalyL_1600_AnomalyN_60...  0.850000  0.966667   \n",
       "\n",
       "                                                      TCN AE  \n",
       "SinusRW_Length_112000_AnomalyL_200_AnomalyN_60_...  1.000000  \n",
       "SinusRW_Length_106000_AnomalyL_100_AnomalyN_60_...  0.983333  \n",
       "SinusRW_Length_104000_AnomalyL_200_AnomalyN_20_...  0.900000  \n",
       "SinusRW_Length_112000_AnomalyL_200_AnomalyN_60_...  1.000000  \n",
       "SinusRW_Length_148000_AnomalyL_800_AnomalyN_60_...  1.000000  \n",
       "SinusRW_Length_124000_AnomalyL_400_AnomalyN_60_...  1.000000  \n",
       "SinusRW_Length_116000_AnomalyL_200_AnomalyN_80_...  1.000000  \n",
       "SinusRW_Length_108000_AnomalyL_200_AnomalyN_40_...  0.875000  \n",
       "SinusRW_Length_120000_AnomalyL_200_AnomalyN_100...  1.000000  \n",
       "SinusRW_Length_112000_AnomalyL_200_AnomalyN_60_...  1.000000  \n",
       "SinusRW_Length_112000_AnomalyL_200_AnomalyN_60_...  1.000000  \n",
       "SinusRW_Length_112000_AnomalyL_200_AnomalyN_60_...  1.000000  \n",
       "SinusRW_Length_112000_AnomalyL_200_AnomalyN_60_...  1.000000  \n",
       "SinusRW_Length_196000_AnomalyL_1600_AnomalyN_60...  0.983333  "
      ]
     },
     "execution_count": 12,
     "metadata": {},
     "output_type": "execute_result"
    }
   ],
   "source": [
    "precision_at_k_results = pd.DataFrame({\n",
    "    detector_name: pd.Series({k: v['precision@k'] for k,v in detector_metrics.items()})\n",
    "    for detector_name, detector_metrics in [\n",
    "        (\"Random\", random_metrics),\n",
    "        (\"LOF\", lof_metrics),\n",
    "        (\"TCN AE\", tcnae_metrics)\n",
    "    ]\n",
    "})\n",
    "precision_at_k_results"
   ]
  },
  {
   "cell_type": "code",
   "execution_count": 13,
   "id": "1a40f26b-7769-43ef-9b87-4ec48f3d50ef",
   "metadata": {
    "execution": {
     "iopub.execute_input": "2024-11-16T12:40:04.580380Z",
     "iopub.status.busy": "2024-11-16T12:40:04.580255Z",
     "iopub.status.idle": "2024-11-16T12:40:04.585951Z",
     "shell.execute_reply": "2024-11-16T12:40:04.585608Z"
    }
   },
   "outputs": [
    {
     "data": {
      "text/html": [
       "<div>\n",
       "<style scoped>\n",
       "    .dataframe tbody tr th:only-of-type {\n",
       "        vertical-align: middle;\n",
       "    }\n",
       "\n",
       "    .dataframe tbody tr th {\n",
       "        vertical-align: top;\n",
       "    }\n",
       "\n",
       "    .dataframe thead th {\n",
       "        text-align: right;\n",
       "    }\n",
       "</style>\n",
       "<table border=\"1\" class=\"dataframe\">\n",
       "  <thead>\n",
       "    <tr style=\"text-align: right;\">\n",
       "      <th></th>\n",
       "      <th>Random</th>\n",
       "      <th>LOF</th>\n",
       "      <th>TCN AE</th>\n",
       "    </tr>\n",
       "  </thead>\n",
       "  <tbody>\n",
       "    <tr>\n",
       "      <th>SinusRW_Length_112000_AnomalyL_200_AnomalyN_60_NoisePerc_0</th>\n",
       "      <td>0.137083</td>\n",
       "      <td>0.244583</td>\n",
       "      <td>0.783250</td>\n",
       "    </tr>\n",
       "    <tr>\n",
       "      <th>SinusRW_Length_106000_AnomalyL_100_AnomalyN_60_NoisePerc_0</th>\n",
       "      <td>0.049333</td>\n",
       "      <td>0.342333</td>\n",
       "      <td>0.525833</td>\n",
       "    </tr>\n",
       "    <tr>\n",
       "      <th>SinusRW_Length_104000_AnomalyL_200_AnomalyN_20_NoisePerc_0</th>\n",
       "      <td>0.020250</td>\n",
       "      <td>0.310000</td>\n",
       "      <td>0.649750</td>\n",
       "    </tr>\n",
       "    <tr>\n",
       "      <th>SinusRW_Length_112000_AnomalyL_200_AnomalyN_60_NoisePerc_5</th>\n",
       "      <td>0.105750</td>\n",
       "      <td>0.265083</td>\n",
       "      <td>0.423333</td>\n",
       "    </tr>\n",
       "    <tr>\n",
       "      <th>SinusRW_Length_148000_AnomalyL_800_AnomalyN_60_NoisePerc_0</th>\n",
       "      <td>0.383396</td>\n",
       "      <td>0.157604</td>\n",
       "      <td>0.536604</td>\n",
       "    </tr>\n",
       "    <tr>\n",
       "      <th>SinusRW_Length_124000_AnomalyL_400_AnomalyN_60_NoisePerc_0</th>\n",
       "      <td>0.190292</td>\n",
       "      <td>0.181417</td>\n",
       "      <td>0.708917</td>\n",
       "    </tr>\n",
       "    <tr>\n",
       "      <th>SinusRW_Length_116000_AnomalyL_200_AnomalyN_80_NoisePerc_0</th>\n",
       "      <td>0.153625</td>\n",
       "      <td>0.158938</td>\n",
       "      <td>0.747500</td>\n",
       "    </tr>\n",
       "    <tr>\n",
       "      <th>SinusRW_Length_108000_AnomalyL_200_AnomalyN_40_NoisePerc_0</th>\n",
       "      <td>0.072250</td>\n",
       "      <td>0.268750</td>\n",
       "      <td>0.587875</td>\n",
       "    </tr>\n",
       "    <tr>\n",
       "      <th>SinusRW_Length_120000_AnomalyL_200_AnomalyN_100_NoisePerc_0</th>\n",
       "      <td>0.185500</td>\n",
       "      <td>0.207900</td>\n",
       "      <td>0.711050</td>\n",
       "    </tr>\n",
       "    <tr>\n",
       "      <th>SinusRW_Length_112000_AnomalyL_200_AnomalyN_60_NoisePerc_20</th>\n",
       "      <td>0.097167</td>\n",
       "      <td>0.227500</td>\n",
       "      <td>0.392250</td>\n",
       "    </tr>\n",
       "    <tr>\n",
       "      <th>SinusRW_Length_112000_AnomalyL_200_AnomalyN_60_NoisePerc_15</th>\n",
       "      <td>0.154417</td>\n",
       "      <td>0.262750</td>\n",
       "      <td>0.363667</td>\n",
       "    </tr>\n",
       "    <tr>\n",
       "      <th>SinusRW_Length_112000_AnomalyL_200_AnomalyN_60_NoisePerc_10</th>\n",
       "      <td>0.042000</td>\n",
       "      <td>0.264250</td>\n",
       "      <td>0.312167</td>\n",
       "    </tr>\n",
       "    <tr>\n",
       "      <th>SinusRW_Length_112000_AnomalyL_200_AnomalyN_60_NoisePerc_25</th>\n",
       "      <td>0.067333</td>\n",
       "      <td>0.209833</td>\n",
       "      <td>0.308500</td>\n",
       "    </tr>\n",
       "    <tr>\n",
       "      <th>SinusRW_Length_196000_AnomalyL_1600_AnomalyN_60_NoisePerc_0</th>\n",
       "      <td>0.537323</td>\n",
       "      <td>0.231375</td>\n",
       "      <td>0.559958</td>\n",
       "    </tr>\n",
       "  </tbody>\n",
       "</table>\n",
       "</div>"
      ],
      "text/plain": [
       "                                                      Random       LOF  \\\n",
       "SinusRW_Length_112000_AnomalyL_200_AnomalyN_60_...  0.137083  0.244583   \n",
       "SinusRW_Length_106000_AnomalyL_100_AnomalyN_60_...  0.049333  0.342333   \n",
       "SinusRW_Length_104000_AnomalyL_200_AnomalyN_20_...  0.020250  0.310000   \n",
       "SinusRW_Length_112000_AnomalyL_200_AnomalyN_60_...  0.105750  0.265083   \n",
       "SinusRW_Length_148000_AnomalyL_800_AnomalyN_60_...  0.383396  0.157604   \n",
       "SinusRW_Length_124000_AnomalyL_400_AnomalyN_60_...  0.190292  0.181417   \n",
       "SinusRW_Length_116000_AnomalyL_200_AnomalyN_80_...  0.153625  0.158938   \n",
       "SinusRW_Length_108000_AnomalyL_200_AnomalyN_40_...  0.072250  0.268750   \n",
       "SinusRW_Length_120000_AnomalyL_200_AnomalyN_100...  0.185500  0.207900   \n",
       "SinusRW_Length_112000_AnomalyL_200_AnomalyN_60_...  0.097167  0.227500   \n",
       "SinusRW_Length_112000_AnomalyL_200_AnomalyN_60_...  0.154417  0.262750   \n",
       "SinusRW_Length_112000_AnomalyL_200_AnomalyN_60_...  0.042000  0.264250   \n",
       "SinusRW_Length_112000_AnomalyL_200_AnomalyN_60_...  0.067333  0.209833   \n",
       "SinusRW_Length_196000_AnomalyL_1600_AnomalyN_60...  0.537323  0.231375   \n",
       "\n",
       "                                                      TCN AE  \n",
       "SinusRW_Length_112000_AnomalyL_200_AnomalyN_60_...  0.783250  \n",
       "SinusRW_Length_106000_AnomalyL_100_AnomalyN_60_...  0.525833  \n",
       "SinusRW_Length_104000_AnomalyL_200_AnomalyN_20_...  0.649750  \n",
       "SinusRW_Length_112000_AnomalyL_200_AnomalyN_60_...  0.423333  \n",
       "SinusRW_Length_148000_AnomalyL_800_AnomalyN_60_...  0.536604  \n",
       "SinusRW_Length_124000_AnomalyL_400_AnomalyN_60_...  0.708917  \n",
       "SinusRW_Length_116000_AnomalyL_200_AnomalyN_80_...  0.747500  \n",
       "SinusRW_Length_108000_AnomalyL_200_AnomalyN_40_...  0.587875  \n",
       "SinusRW_Length_120000_AnomalyL_200_AnomalyN_100...  0.711050  \n",
       "SinusRW_Length_112000_AnomalyL_200_AnomalyN_60_...  0.392250  \n",
       "SinusRW_Length_112000_AnomalyL_200_AnomalyN_60_...  0.363667  \n",
       "SinusRW_Length_112000_AnomalyL_200_AnomalyN_60_...  0.312167  \n",
       "SinusRW_Length_112000_AnomalyL_200_AnomalyN_60_...  0.308500  \n",
       "SinusRW_Length_196000_AnomalyL_1600_AnomalyN_60...  0.559958  "
      ]
     },
     "execution_count": 13,
     "metadata": {},
     "output_type": "execute_result"
    }
   ],
   "source": [
    "f1_score_results = pd.DataFrame({\n",
    "    detector_name: pd.Series({k: v['f1-score'] for k,v in detector_metrics.items()})\n",
    "    for detector_name, detector_metrics in [\n",
    "        (\"Random\", random_metrics),\n",
    "        (\"LOF\", lof_metrics),\n",
    "        (\"TCN AE\", tcnae_metrics)\n",
    "    ]\n",
    "})\n",
    "f1_score_results"
   ]
  },
  {
   "cell_type": "code",
   "execution_count": 14,
   "id": "db1bebf3-044a-472f-8ab5-5b930b277cfb",
   "metadata": {
    "execution": {
     "iopub.execute_input": "2024-11-16T12:40:04.587184Z",
     "iopub.status.busy": "2024-11-16T12:40:04.587063Z",
     "iopub.status.idle": "2024-11-16T12:40:04.590426Z",
     "shell.execute_reply": "2024-11-16T12:40:04.590081Z"
    }
   },
   "outputs": [
    {
     "data": {
      "text/plain": [
       "Random    0.285595\n",
       "LOF       0.997619\n",
       "TCN AE    0.981548\n",
       "dtype: float64"
      ]
     },
     "execution_count": 14,
     "metadata": {},
     "output_type": "execute_result"
    }
   ],
   "source": [
    "precision_at_k_results.mean()"
   ]
  },
  {
   "cell_type": "code",
   "execution_count": 15,
   "id": "76595f21-367a-4d8f-a330-b3e7654469cd",
   "metadata": {
    "execution": {
     "iopub.execute_input": "2024-11-16T12:40:04.591653Z",
     "iopub.status.busy": "2024-11-16T12:40:04.591526Z",
     "iopub.status.idle": "2024-11-16T12:40:04.594691Z",
     "shell.execute_reply": "2024-11-16T12:40:04.594342Z"
    }
   },
   "outputs": [
    {
     "data": {
      "text/plain": [
       "Random    0.156837\n",
       "LOF       0.238023\n",
       "TCN AE    0.543618\n",
       "dtype: float64"
      ]
     },
     "execution_count": 15,
     "metadata": {},
     "output_type": "execute_result"
    }
   ],
   "source": [
    "f1_score_results.mean()"
   ]
  },
  {
   "cell_type": "code",
   "execution_count": 16,
   "id": "44fdbd47-6b62-40ac-a059-35860d35bc9d",
   "metadata": {
    "execution": {
     "iopub.execute_input": "2024-11-16T12:40:04.595828Z",
     "iopub.status.busy": "2024-11-16T12:40:04.595712Z",
     "iopub.status.idle": "2024-11-16T12:40:04.943789Z",
     "shell.execute_reply": "2024-11-16T12:40:04.943354Z"
    }
   },
   "outputs": [
    {
     "data": {
      "image/png": "[encoded data removed]",
      "text/plain": [
       "<Figure size 1700x500 with 3 Axes>"
      ]
     },
     "metadata": {},
     "output_type": "display_data"
    }
   ],
   "source": [
    "bins = 30\n",
    "\n",
    "fig, axes = plt.subplots(1, 3, figsize=(17, 5))\n",
    "fig.suptitle(\"Detector's Precision@k for series\")\n",
    "\n",
    "for detector_label, color, ax in zip(\n",
    "    [\"Random\", \"LOF\", \"TCN AE\"],\n",
    "    [\"orange\", \"green\", \"blue\"],\n",
    "    axes\n",
    "):\n",
    "    ax.set_title(detector_label)\n",
    "    ax.hist(\n",
    "        precision_at_k_results[detector_label],\n",
    "        bins=bins,\n",
    "        color=color,\n",
    "        range=(0,1)\n",
    "    )\n",
    "    ax.set_xlabel(\"precision@k\")\n",
    "    ax.set_ylabel(\"number of series\")\n",
    "    ax.yaxis.set_major_locator(MaxNLocator(integer=True))\n",
    "\n",
    "plt.savefig(\"img/precision_at_k.png\")"
   ]
  },
  {
   "cell_type": "code",
   "execution_count": 17,
   "id": "e190e72e-879d-4ac7-9027-269538cec49f",
   "metadata": {
    "execution": {
     "iopub.execute_input": "2024-11-16T12:40:04.945300Z",
     "iopub.status.busy": "2024-11-16T12:40:04.945157Z",
     "iopub.status.idle": "2024-11-16T12:40:05.249805Z",
     "shell.execute_reply": "2024-11-16T12:40:05.249399Z"
    }
   },
   "outputs": [
    {
     "data": {
      "image/png": "[encoded data removed]",
      "text/plain": [
       "<Figure size 1700x500 with 3 Axes>"
      ]
     },
     "metadata": {},
     "output_type": "display_data"
    }
   ],
   "source": [
    "bins = 30\n",
    "\n",
    "fig, axes = plt.subplots(1, 3, figsize=(17, 5))\n",
    "fig.suptitle(\"Detector's f1-score for series\")\n",
    "\n",
    "for detector_label, color, ax in zip(\n",
    "    [\"Random\", \"LOF\", \"TCN AE\"],\n",
    "    [\"orange\", \"green\", \"blue\"],\n",
    "    axes\n",
    "):\n",
    "    ax.set_title(detector_label)\n",
    "    ax.hist(\n",
    "        f1_score_results[detector_label],\n",
    "        bins=bins,\n",
    "        color=color,\n",
    "        range=(0,1)\n",
    "    )\n",
    "    ax.set_xlabel(\"f1-score\")\n",
    "    ax.set_ylabel(\"number of series\")\n",
    "    ax.yaxis.set_major_locator(MaxNLocator(integer=True))\n",
    "\n",
    "plt.savefig(\"img/f1_score.png\")"
   ]
  }
 ],
 "metadata": {
  "kernelspec": {
   "display_name": "Python 3 (ipykernel)",
   "language": "python",
   "name": "python3"
  },
  "language_info": {
   "codemirror_mode": {
    "name": "ipython",
    "version": 3
   },
   "file_extension": ".py",
   "mimetype": "text/x-python",
   "name": "python",
   "nbconvert_exporter": "python",
   "pygments_lexer": "ipython3",
   "version": "3.12.3"
  },
  "widgets": {
   "application/vnd.jupyter.widget-state+json": {
    "state": {
     "1420200f92474b94a9172a02d16a8902": {
      "model_module": "@jupyter-widgets/controls",
      "model_module_version": "2.0.0",
      "model_name": "HBoxModel",
      "state": {
       "_dom_classes": [],
       "_model_module": "@jupyter-widgets/controls",
       "_model_module_version": "2.0.0",
       "_model_name": "HBoxModel",
       "_view_count": null,
       "_view_module": "@jupyter-widgets/controls",
       "_view_module_version": "2.0.0",
       "_view_name": "HBoxView",
       "box_style": "",
       "children": [
        "IPY_MODEL_253be17adabb45fcb2a30d956ccf2734",
        "IPY_MODEL_aca563656cc547f1a6be2ecac6886fa4",
        "IPY_MODEL_e35fdc606a104f2182a95a9ac145df89"
       ],
       "layout": "IPY_MODEL_ff49dab6b7b243f1826ddb308e67c223",
       "tabbable": null,
       "tooltip": null
      }
     },
     "1f35ca0f31a9418a8026af590029d004": {
      "model_module": "@jupyter-widgets/controls",
      "model_module_version": "2.0.0",
      "model_name": "FloatProgressModel",
      "state": {
       "_dom_classes": [],
       "_model_module": "@jupyter-widgets/controls",
       "_model_module_version": "2.0.0",
       "_model_name": "FloatProgressModel",
       "_view_count": null,
       "_view_module": "@jupyter-widgets/controls",
       "_view_module_version": "2.0.0",
       "_view_name": "ProgressView",
       "bar_style": "success",
       "description": "",
       "description_allow_html": false,
       "layout": "IPY_MODEL_b93d6e68ddf541fbaffc42826f76c658",
       "max": 14.0,
       "min": 0.0,
       "orientation": "horizontal",
       "style": "IPY_MODEL_e4da4c1e1d50457ebe2113c0e257a4f5",
       "tabbable": null,
       "tooltip": null,
       "value": 14.0
      }
     },
     "253be17adabb45fcb2a30d956ccf2734": {
      "model_module": "@jupyter-widgets/controls",
      "model_module_version": "2.0.0",
      "model_name": "HTMLModel",
      "state": {
       "_dom_classes": [],
       "_model_module": "@jupyter-widgets/controls",
       "_model_module_version": "2.0.0",
       "_model_name": "HTMLModel",
       "_view_count": null,
       "_view_module": "@jupyter-widgets/controls",
       "_view_module_version": "2.0.0",
       "_view_name": "HTMLView",
       "description": "",
       "description_allow_html": false,
       "layout": "IPY_MODEL_fdac137f86964b16833de35054b37d4e",
       "placeholder": "​",
       "style": "IPY_MODEL_7036ca620e554e05bf3b466dd740acb4",
       "tabbable": null,
       "tooltip": null,
       "value": "100%"
      }
     },
     "270648454afc490d80908185cfd7a145": {
      "model_module": "@jupyter-widgets/controls",
      "model_module_version": "2.0.0",
      "model_name": "HBoxModel",
      "state": {
       "_dom_classes": [],
       "_model_module": "@jupyter-widgets/controls",
       "_model_module_version": "2.0.0",
       "_model_name": "HBoxModel",
       "_view_count": null,
       "_view_module": "@jupyter-widgets/controls",
       "_view_module_version": "2.0.0",
       "_view_name": "HBoxView",
       "box_style": "",
       "children": [
        "IPY_MODEL_75db850a16e142b5bde31c97fea50073",
        "IPY_MODEL_9f10d82939514b888cc436c2b3d7c9df",
        "IPY_MODEL_8a32780572114454b9bdfcc4ff9ce08d"
       ],
       "layout": "IPY_MODEL_cec006904f3f45e2853aa14c49f771a4",
       "tabbable": null,
       "tooltip": null
      }
     },
     "3271d239dce4406d90ad1c15d797de7f": {
      "model_module": "@jupyter-widgets/base",
      "model_module_version": "2.0.0",
      "model_name": "LayoutModel",
      "state": {
       "_model_module": "@jupyter-widgets/base",
       "_model_module_version": "2.0.0",
       "_model_name": "LayoutModel",
       "_view_count": null,
       "_view_module": "@jupyter-widgets/base",
       "_view_module_version": "2.0.0",
       "_view_name": "LayoutView",
       "align_content": null,
       "align_items": null,
       "align_self": null,
       "border_bottom": null,
       "border_left": null,
       "border_right": null,
       "border_top": null,
       "bottom": null,
       "display": null,
       "flex": null,
       "flex_flow": null,
       "grid_area": null,
       "grid_auto_columns": null,
       "grid_auto_flow": null,
       "grid_auto_rows": null,
       "grid_column": null,
       "grid_gap": null,
       "grid_row": null,
       "grid_template_areas": null,
       "grid_template_columns": null,
       "grid_template_rows": null,
       "height": null,
       "justify_content": null,
       "justify_items": null,
       "left": null,
       "margin": null,
       "max_height": null,
       "max_width": null,
       "min_height": null,
       "min_width": null,
       "object_fit": null,
       "object_position": null,
       "order": null,
       "overflow": null,
       "padding": null,
       "right": null,
       "top": null,
       "visibility": null,
       "width": null
      }
     },
     "36cd015fc6fd4c3c9c344f2c0cc2cf6a": {
      "model_module": "@jupyter-widgets/base",
      "model_module_version": "2.0.0",
      "model_name": "LayoutModel",
      "state": {
       "_model_module": "@jupyter-widgets/base",
       "_model_module_version": "2.0.0",
       "_model_name": "LayoutModel",
       "_view_count": null,
       "_view_module": "@jupyter-widgets/base",
       "_view_module_version": "2.0.0",
       "_view_name": "LayoutView",
       "align_content": null,
       "align_items": null,
       "align_self": null,
       "border_bottom": null,
       "border_left": null,
       "border_right": null,
       "border_top": null,
       "bottom": null,
       "display": null,
       "flex": null,
       "flex_flow": null,
       "grid_area": null,
       "grid_auto_columns": null,
       "grid_auto_flow": null,
       "grid_auto_rows": null,
       "grid_column": null,
       "grid_gap": null,
       "grid_row": null,
       "grid_template_areas": null,
       "grid_template_columns": null,
       "grid_template_rows": null,
       "height": null,
       "justify_content": null,
       "justify_items": null,
       "left": null,
       "margin": null,
       "max_height": null,
       "max_width": null,
       "min_height": null,
       "min_width": null,
       "object_fit": null,
       "object_position": null,
       "order": null,
       "overflow": null,
       "padding": null,
       "right": null,
       "top": null,
       "visibility": null,
       "width": null
      }
     },
     "3733f2725273421eab981e91e3b95234": {
      "model_module": "@jupyter-widgets/controls",
      "model_module_version": "2.0.0",
      "model_name": "HBoxModel",
      "state": {
       "_dom_classes": [],
       "_model_module": "@jupyter-widgets/controls",
       "_model_module_version": "2.0.0",
       "_model_name": "HBoxModel",
       "_view_count": null,
       "_view_module": "@jupyter-widgets/controls",
       "_view_module_version": "2.0.0",
       "_view_name": "HBoxView",
       "box_style": "",
       "children": [
        "IPY_MODEL_70fb8dee10aa44ce87019a371020a3de",
        "IPY_MODEL_1f35ca0f31a9418a8026af590029d004",
        "IPY_MODEL_8f5c252f96074e89a6e9a98107cb2665"
       ],
       "layout": "IPY_MODEL_44479e2741ef41feb9abe3771ef091ec",
       "tabbable": null,
       "tooltip": null
      }
     },
     "3dfabc750df2413aa340b61a9f80c688": {
      "model_module": "@jupyter-widgets/base",
      "model_module_version": "2.0.0",
      "model_name": "LayoutModel",
      "state": {
       "_model_module": "@jupyter-widgets/base",
       "_model_module_version": "2.0.0",
       "_model_name": "LayoutModel",
       "_view_count": null,
       "_view_module": "@jupyter-widgets/base",
       "_view_module_version": "2.0.0",
       "_view_name": "LayoutView",
       "align_content": null,
       "align_items": null,
       "align_self": null,
       "border_bottom": null,
       "border_left": null,
       "border_right": null,
       "border_top": null,
       "bottom": null,
       "display": null,
       "flex": null,
       "flex_flow": null,
       "grid_area": null,
       "grid_auto_columns": null,
       "grid_auto_flow": null,
       "grid_auto_rows": null,
       "grid_column": null,
       "grid_gap": null,
       "grid_row": null,
       "grid_template_areas": null,
       "grid_template_columns": null,
       "grid_template_rows": null,
       "height": null,
       "justify_content": null,
       "justify_items": null,
       "left": null,
       "margin": null,
       "max_height": null,
       "max_width": null,
       "min_height": null,
       "min_width": null,
       "object_fit": null,
       "object_position": null,
       "order": null,
       "overflow": null,
       "padding": null,
       "right": null,
       "top": null,
       "visibility": null,
       "width": null
      }
     },
     "44479e2741ef41feb9abe3771ef091ec": {
      "model_module": "@jupyter-widgets/base",
      "model_module_version": "2.0.0",
      "model_name": "LayoutModel",
      "state": {
       "_model_module": "@jupyter-widgets/base",
       "_model_module_version": "2.0.0",
       "_model_name": "LayoutModel",
       "_view_count": null,
       "_view_module": "@jupyter-widgets/base",
       "_view_module_version": "2.0.0",
       "_view_name": "LayoutView",
       "align_content": null,
       "align_items": null,
       "align_self": null,
       "border_bottom": null,
       "border_left": null,
       "border_right": null,
       "border_top": null,
       "bottom": null,
       "display": null,
       "flex": null,
       "flex_flow": null,
       "grid_area": null,
       "grid_auto_columns": null,
       "grid_auto_flow": null,
       "grid_auto_rows": null,
       "grid_column": null,
       "grid_gap": null,
       "grid_row": null,
       "grid_template_areas": null,
       "grid_template_columns": null,
       "grid_template_rows": null,
       "height": null,
       "justify_content": null,
       "justify_items": null,
       "left": null,
       "margin": null,
       "max_height": null,
       "max_width": null,
       "min_height": null,
       "min_width": null,
       "object_fit": null,
       "object_position": null,
       "order": null,
       "overflow": null,
       "padding": null,
       "right": null,
       "top": null,
       "visibility": null,
       "width": null
      }
     },
     "4463303f8b9b45c4b4ea96bfbdc6a6d1": {
      "model_module": "@jupyter-widgets/controls",
      "model_module_version": "2.0.0",
      "model_name": "ProgressStyleModel",
      "state": {
       "_model_module": "@jupyter-widgets/controls",
       "_model_module_version": "2.0.0",
       "_model_name": "ProgressStyleModel",
       "_view_count": null,
       "_view_module": "@jupyter-widgets/base",
       "_view_module_version": "2.0.0",
       "_view_name": "StyleView",
       "bar_color": null,
       "description_width": ""
      }
     },
     "4bd0dfc4e9354d709868bea75f1f78db": {
      "model_module": "@jupyter-widgets/base",
      "model_module_version": "2.0.0",
      "model_name": "LayoutModel",
      "state": {
       "_model_module": "@jupyter-widgets/base",
       "_model_module_version": "2.0.0",
       "_model_name": "LayoutModel",
       "_view_count": null,
       "_view_module": "@jupyter-widgets/base",
       "_view_module_version": "2.0.0",
       "_view_name": "LayoutView",
       "align_content": null,
       "align_items": null,
       "align_self": null,
       "border_bottom": null,
       "border_left": null,
       "border_right": null,
       "border_top": null,
       "bottom": null,
       "display": null,
       "flex": null,
       "flex_flow": null,
       "grid_area": null,
       "grid_auto_columns": null,
       "grid_auto_flow": null,
       "grid_auto_rows": null,
       "grid_column": null,
       "grid_gap": null,
       "grid_row": null,
       "grid_template_areas": null,
       "grid_template_columns": null,
       "grid_template_rows": null,
       "height": null,
       "justify_content": null,
       "justify_items": null,
       "left": null,
       "margin": null,
       "max_height": null,
       "max_width": null,
       "min_height": null,
       "min_width": null,
       "object_fit": null,
       "object_position": null,
       "order": null,
       "overflow": null,
       "padding": null,
       "right": null,
       "top": null,
       "visibility": null,
       "width": null
      }
     },
     "51e69a0d306440f681f678512307361f": {
      "model_module": "@jupyter-widgets/controls",
      "model_module_version": "2.0.0",
      "model_name": "HTMLStyleModel",
      "state": {
       "_model_module": "@jupyter-widgets/controls",
       "_model_module_version": "2.0.0",
       "_model_name": "HTMLStyleModel",
       "_view_count": null,
       "_view_module": "@jupyter-widgets/base",
       "_view_module_version": "2.0.0",
       "_view_name": "StyleView",
       "background": null,
       "description_width": "",
       "font_size": null,
       "text_color": null
      }
     },
     "6464c99d2a904826ab79f8cc071431df": {
      "model_module": "@jupyter-widgets/controls",
      "model_module_version": "2.0.0",
      "model_name": "HTMLStyleModel",
      "state": {
       "_model_module": "@jupyter-widgets/controls",
       "_model_module_version": "2.0.0",
       "_model_name": "HTMLStyleModel",
       "_view_count": null,
       "_view_module": "@jupyter-widgets/base",
       "_view_module_version": "2.0.0",
       "_view_name": "StyleView",
       "background": null,
       "description_width": "",
       "font_size": null,
       "text_color": null
      }
     },
     "7036ca620e554e05bf3b466dd740acb4": {
      "model_module": "@jupyter-widgets/controls",
      "model_module_version": "2.0.0",
      "model_name": "HTMLStyleModel",
      "state": {
       "_model_module": "@jupyter-widgets/controls",
       "_model_module_version": "2.0.0",
       "_model_name": "HTMLStyleModel",
       "_view_count": null,
       "_view_module": "@jupyter-widgets/base",
       "_view_module_version": "2.0.0",
       "_view_name": "StyleView",
       "background": null,
       "description_width": "",
       "font_size": null,
       "text_color": null
      }
     },
     "70fb8dee10aa44ce87019a371020a3de": {
      "model_module": "@jupyter-widgets/controls",
      "model_module_version": "2.0.0",
      "model_name": "HTMLModel",
      "state": {
       "_dom_classes": [],
       "_model_module": "@jupyter-widgets/controls",
       "_model_module_version": "2.0.0",
       "_model_name": "HTMLModel",
       "_view_count": null,
       "_view_module": "@jupyter-widgets/controls",
       "_view_module_version": "2.0.0",
       "_view_name": "HTMLView",
       "description": "",
       "description_allow_html": false,
       "layout": "IPY_MODEL_c38760ddb39d4d1cbd26389cd373ef78",
       "placeholder": "​",
       "style": "IPY_MODEL_51e69a0d306440f681f678512307361f",
       "tabbable": null,
       "tooltip": null,
       "value": "100%"
      }
     },
     "75db850a16e142b5bde31c97fea50073": {
      "model_module": "@jupyter-widgets/controls",
      "model_module_version": "2.0.0",
      "model_name": "HTMLModel",
      "state": {
       "_dom_classes": [],
       "_model_module": "@jupyter-widgets/controls",
       "_model_module_version": "2.0.0",
       "_model_name": "HTMLModel",
       "_view_count": null,
       "_view_module": "@jupyter-widgets/controls",
       "_view_module_version": "2.0.0",
       "_view_name": "HTMLView",
       "description": "",
       "description_allow_html": false,
       "layout": "IPY_MODEL_3dfabc750df2413aa340b61a9f80c688",
       "placeholder": "​",
       "style": "IPY_MODEL_829995b7c2104b72b8a0289ab0b08fd1",
       "tabbable": null,
       "tooltip": null,
       "value": "100%"
      }
     },
     "7e1b054d5a264f8980f66ac9d4c8ba43": {
      "model_module": "@jupyter-widgets/controls",
      "model_module_version": "2.0.0",
      "model_name": "ProgressStyleModel",
      "state": {
       "_model_module": "@jupyter-widgets/controls",
       "_model_module_version": "2.0.0",
       "_model_name": "ProgressStyleModel",
       "_view_count": null,
       "_view_module": "@jupyter-widgets/base",
       "_view_module_version": "2.0.0",
       "_view_name": "StyleView",
       "bar_color": null,
       "description_width": ""
      }
     },
     "829995b7c2104b72b8a0289ab0b08fd1": {
      "model_module": "@jupyter-widgets/controls",
      "model_module_version": "2.0.0",
      "model_name": "HTMLStyleModel",
      "state": {
       "_model_module": "@jupyter-widgets/controls",
       "_model_module_version": "2.0.0",
       "_model_name": "HTMLStyleModel",
       "_view_count": null,
       "_view_module": "@jupyter-widgets/base",
       "_view_module_version": "2.0.0",
       "_view_name": "StyleView",
       "background": null,
       "description_width": "",
       "font_size": null,
       "text_color": null
      }
     },
     "8a32780572114454b9bdfcc4ff9ce08d": {
      "model_module": "@jupyter-widgets/controls",
      "model_module_version": "2.0.0",
      "model_name": "HTMLModel",
      "state": {
       "_dom_classes": [],
       "_model_module": "@jupyter-widgets/controls",
       "_model_module_version": "2.0.0",
       "_model_name": "HTMLModel",
       "_view_count": null,
       "_view_module": "@jupyter-widgets/controls",
       "_view_module_version": "2.0.0",
       "_view_name": "HTMLView",
       "description": "",
       "description_allow_html": false,
       "layout": "IPY_MODEL_a596fb1f368345c5b89b8169b3c15107",
       "placeholder": "​",
       "style": "IPY_MODEL_a81e8a6908a843c198a75d703cb48c65",
       "tabbable": null,
       "tooltip": null,
       "value": " 14/14 [17:33&lt;00:00, 188.53s/it]"
      }
     },
     "8f5c252f96074e89a6e9a98107cb2665": {
      "model_module": "@jupyter-widgets/controls",
      "model_module_version": "2.0.0",
      "model_name": "HTMLModel",
      "state": {
       "_dom_classes": [],
       "_model_module": "@jupyter-widgets/controls",
       "_model_module_version": "2.0.0",
       "_model_name": "HTMLModel",
       "_view_count": null,
       "_view_module": "@jupyter-widgets/controls",
       "_view_module_version": "2.0.0",
       "_view_name": "HTMLView",
       "description": "",
       "description_allow_html": false,
       "layout": "IPY_MODEL_94306df98f8d47ab909166c8e2657c49",
       "placeholder": "​",
       "style": "IPY_MODEL_f37b7ef778dd430d921f8751fc1c0614",
       "tabbable": null,
       "tooltip": null,
       "value": " 14/14 [01:36&lt;00:00, 21.93s/it]"
      }
     },
     "94306df98f8d47ab909166c8e2657c49": {
      "model_module": "@jupyter-widgets/base",
      "model_module_version": "2.0.0",
      "model_name": "LayoutModel",
      "state": {
       "_model_module": "@jupyter-widgets/base",
       "_model_module_version": "2.0.0",
       "_model_name": "LayoutModel",
       "_view_count": null,
       "_view_module": "@jupyter-widgets/base",
       "_view_module_version": "2.0.0",
       "_view_name": "LayoutView",
       "align_content": null,
       "align_items": null,
       "align_self": null,
       "border_bottom": null,
       "border_left": null,
       "border_right": null,
       "border_top": null,
       "bottom": null,
       "display": null,
       "flex": null,
       "flex_flow": null,
       "grid_area": null,
       "grid_auto_columns": null,
       "grid_auto_flow": null,
       "grid_auto_rows": null,
       "grid_column": null,
       "grid_gap": null,
       "grid_row": null,
       "grid_template_areas": null,
       "grid_template_columns": null,
       "grid_template_rows": null,
       "height": null,
       "justify_content": null,
       "justify_items": null,
       "left": null,
       "margin": null,
       "max_height": null,
       "max_width": null,
       "min_height": null,
       "min_width": null,
       "object_fit": null,
       "object_position": null,
       "order": null,
       "overflow": null,
       "padding": null,
       "right": null,
       "top": null,
       "visibility": null,
       "width": null
      }
     },
     "9f10d82939514b888cc436c2b3d7c9df": {
      "model_module": "@jupyter-widgets/controls",
      "model_module_version": "2.0.0",
      "model_name": "FloatProgressModel",
      "state": {
       "_dom_classes": [],
       "_model_module": "@jupyter-widgets/controls",
       "_model_module_version": "2.0.0",
       "_model_name": "FloatProgressModel",
       "_view_count": null,
       "_view_module": "@jupyter-widgets/controls",
       "_view_module_version": "2.0.0",
       "_view_name": "ProgressView",
       "bar_style": "success",
       "description": "",
       "description_allow_html": false,
       "layout": "IPY_MODEL_36cd015fc6fd4c3c9c344f2c0cc2cf6a",
       "max": 14.0,
       "min": 0.0,
       "orientation": "horizontal",
       "style": "IPY_MODEL_4463303f8b9b45c4b4ea96bfbdc6a6d1",
       "tabbable": null,
       "tooltip": null,
       "value": 14.0
      }
     },
     "a596fb1f368345c5b89b8169b3c15107": {
      "model_module": "@jupyter-widgets/base",
      "model_module_version": "2.0.0",
      "model_name": "LayoutModel",
      "state": {
       "_model_module": "@jupyter-widgets/base",
       "_model_module_version": "2.0.0",
       "_model_name": "LayoutModel",
       "_view_count": null,
       "_view_module": "@jupyter-widgets/base",
       "_view_module_version": "2.0.0",
       "_view_name": "LayoutView",
       "align_content": null,
       "align_items": null,
       "align_self": null,
       "border_bottom": null,
       "border_left": null,
       "border_right": null,
       "border_top": null,
       "bottom": null,
       "display": null,
       "flex": null,
       "flex_flow": null,
       "grid_area": null,
       "grid_auto_columns": null,
       "grid_auto_flow": null,
       "grid_auto_rows": null,
       "grid_column": null,
       "grid_gap": null,
       "grid_row": null,
       "grid_template_areas": null,
       "grid_template_columns": null,
       "grid_template_rows": null,
       "height": null,
       "justify_content": null,
       "justify_items": null,
       "left": null,
       "margin": null,
       "max_height": null,
       "max_width": null,
       "min_height": null,
       "min_width": null,
       "object_fit": null,
       "object_position": null,
       "order": null,
       "overflow": null,
       "padding": null,
       "right": null,
       "top": null,
       "visibility": null,
       "width": null
      }
     },
     "a81e8a6908a843c198a75d703cb48c65": {
      "model_module": "@jupyter-widgets/controls",
      "model_module_version": "2.0.0",
      "model_name": "HTMLStyleModel",
      "state": {
       "_model_module": "@jupyter-widgets/controls",
       "_model_module_version": "2.0.0",
       "_model_name": "HTMLStyleModel",
       "_view_count": null,
       "_view_module": "@jupyter-widgets/base",
       "_view_module_version": "2.0.0",
       "_view_name": "StyleView",
       "background": null,
       "description_width": "",
       "font_size": null,
       "text_color": null
      }
     },
     "aca563656cc547f1a6be2ecac6886fa4": {
      "model_module": "@jupyter-widgets/controls",
      "model_module_version": "2.0.0",
      "model_name": "FloatProgressModel",
      "state": {
       "_dom_classes": [],
       "_model_module": "@jupyter-widgets/controls",
       "_model_module_version": "2.0.0",
       "_model_name": "FloatProgressModel",
       "_view_count": null,
       "_view_module": "@jupyter-widgets/controls",
       "_view_module_version": "2.0.0",
       "_view_name": "ProgressView",
       "bar_style": "success",
       "description": "",
       "description_allow_html": false,
       "layout": "IPY_MODEL_3271d239dce4406d90ad1c15d797de7f",
       "max": 14.0,
       "min": 0.0,
       "orientation": "horizontal",
       "style": "IPY_MODEL_7e1b054d5a264f8980f66ac9d4c8ba43",
       "tabbable": null,
       "tooltip": null,
       "value": 14.0
      }
     },
     "b93d6e68ddf541fbaffc42826f76c658": {
      "model_module": "@jupyter-widgets/base",
      "model_module_version": "2.0.0",
      "model_name": "LayoutModel",
      "state": {
       "_model_module": "@jupyter-widgets/base",
       "_model_module_version": "2.0.0",
       "_model_name": "LayoutModel",
       "_view_count": null,
       "_view_module": "@jupyter-widgets/base",
       "_view_module_version": "2.0.0",
       "_view_name": "LayoutView",
       "align_content": null,
       "align_items": null,
       "align_self": null,
       "border_bottom": null,
       "border_left": null,
       "border_right": null,
       "border_top": null,
       "bottom": null,
       "display": null,
       "flex": null,
       "flex_flow": null,
       "grid_area": null,
       "grid_auto_columns": null,
       "grid_auto_flow": null,
       "grid_auto_rows": null,
       "grid_column": null,
       "grid_gap": null,
       "grid_row": null,
       "grid_template_areas": null,
       "grid_template_columns": null,
       "grid_template_rows": null,
       "height": null,
       "justify_content": null,
       "justify_items": null,
       "left": null,
       "margin": null,
       "max_height": null,
       "max_width": null,
       "min_height": null,
       "min_width": null,
       "object_fit": null,
       "object_position": null,
       "order": null,
       "overflow": null,
       "padding": null,
       "right": null,
       "top": null,
       "visibility": null,
       "width": null
      }
     },
     "c38760ddb39d4d1cbd26389cd373ef78": {
      "model_module": "@jupyter-widgets/base",
      "model_module_version": "2.0.0",
      "model_name": "LayoutModel",
      "state": {
       "_model_module": "@jupyter-widgets/base",
       "_model_module_version": "2.0.0",
       "_model_name": "LayoutModel",
       "_view_count": null,
       "_view_module": "@jupyter-widgets/base",
       "_view_module_version": "2.0.0",
       "_view_name": "LayoutView",
       "align_content": null,
       "align_items": null,
       "align_self": null,
       "border_bottom": null,
       "border_left": null,
       "border_right": null,
       "border_top": null,
       "bottom": null,
       "display": null,
       "flex": null,
       "flex_flow": null,
       "grid_area": null,
       "grid_auto_columns": null,
       "grid_auto_flow": null,
       "grid_auto_rows": null,
       "grid_column": null,
       "grid_gap": null,
       "grid_row": null,
       "grid_template_areas": null,
       "grid_template_columns": null,
       "grid_template_rows": null,
       "height": null,
       "justify_content": null,
       "justify_items": null,
       "left": null,
       "margin": null,
       "max_height": null,
       "max_width": null,
       "min_height": null,
       "min_width": null,
       "object_fit": null,
       "object_position": null,
       "order": null,
       "overflow": null,
       "padding": null,
       "right": null,
       "top": null,
       "visibility": null,
       "width": null
      }
     },
     "cec006904f3f45e2853aa14c49f771a4": {
      "model_module": "@jupyter-widgets/base",
      "model_module_version": "2.0.0",
      "model_name": "LayoutModel",
      "state": {
       "_model_module": "@jupyter-widgets/base",
       "_model_module_version": "2.0.0",
       "_model_name": "LayoutModel",
       "_view_count": null,
       "_view_module": "@jupyter-widgets/base",
       "_view_module_version": "2.0.0",
       "_view_name": "LayoutView",
       "align_content": null,
       "align_items": null,
       "align_self": null,
       "border_bottom": null,
       "border_left": null,
       "border_right": null,
       "border_top": null,
       "bottom": null,
       "display": null,
       "flex": null,
       "flex_flow": null,
       "grid_area": null,
       "grid_auto_columns": null,
       "grid_auto_flow": null,
       "grid_auto_rows": null,
       "grid_column": null,
       "grid_gap": null,
       "grid_row": null,
       "grid_template_areas": null,
       "grid_template_columns": null,
       "grid_template_rows": null,
       "height": null,
       "justify_content": null,
       "justify_items": null,
       "left": null,
       "margin": null,
       "max_height": null,
       "max_width": null,
       "min_height": null,
       "min_width": null,
       "object_fit": null,
       "object_position": null,
       "order": null,
       "overflow": null,
       "padding": null,
       "right": null,
       "top": null,
       "visibility": null,
       "width": null
      }
     },
     "e35fdc606a104f2182a95a9ac145df89": {
      "model_module": "@jupyter-widgets/controls",
      "model_module_version": "2.0.0",
      "model_name": "HTMLModel",
      "state": {
       "_dom_classes": [],
       "_model_module": "@jupyter-widgets/controls",
       "_model_module_version": "2.0.0",
       "_model_name": "HTMLModel",
       "_view_count": null,
       "_view_module": "@jupyter-widgets/controls",
       "_view_module_version": "2.0.0",
       "_view_name": "HTMLView",
       "description": "",
       "description_allow_html": false,
       "layout": "IPY_MODEL_4bd0dfc4e9354d709868bea75f1f78db",
       "placeholder": "​",
       "style": "IPY_MODEL_6464c99d2a904826ab79f8cc071431df",
       "tabbable": null,
       "tooltip": null,
       "value": " 14/14 [00:00&lt;00:00, 39.12it/s]"
      }
     },
     "e4da4c1e1d50457ebe2113c0e257a4f5": {
      "model_module": "@jupyter-widgets/controls",
      "model_module_version": "2.0.0",
      "model_name": "ProgressStyleModel",
      "state": {
       "_model_module": "@jupyter-widgets/controls",
       "_model_module_version": "2.0.0",
       "_model_name": "ProgressStyleModel",
       "_view_count": null,
       "_view_module": "@jupyter-widgets/base",
       "_view_module_version": "2.0.0",
       "_view_name": "StyleView",
       "bar_color": null,
       "description_width": ""
      }
     },
     "f37b7ef778dd430d921f8751fc1c0614": {
      "model_module": "@jupyter-widgets/controls",
      "model_module_version": "2.0.0",
      "model_name": "HTMLStyleModel",
      "state": {
       "_model_module": "@jupyter-widgets/controls",
       "_model_module_version": "2.0.0",
       "_model_name": "HTMLStyleModel",
       "_view_count": null,
       "_view_module": "@jupyter-widgets/base",
       "_view_module_version": "2.0.0",
       "_view_name": "StyleView",
       "background": null,
       "description_width": "",
       "font_size": null,
       "text_color": null
      }
     },
     "fdac137f86964b16833de35054b37d4e": {
      "model_module": "@jupyter-widgets/base",
      "model_module_version": "2.0.0",
      "model_name": "LayoutModel",
      "state": {
       "_model_module": "@jupyter-widgets/base",
       "_model_module_version": "2.0.0",
       "_model_name": "LayoutModel",
       "_view_count": null,
       "_view_module": "@jupyter-widgets/base",
       "_view_module_version": "2.0.0",
       "_view_name": "LayoutView",
       "align_content": null,
       "align_items": null,
       "align_self": null,
       "border_bottom": null,
       "border_left": null,
       "border_right": null,
       "border_top": null,
       "bottom": null,
       "display": null,
       "flex": null,
       "flex_flow": null,
       "grid_area": null,
       "grid_auto_columns": null,
       "grid_auto_flow": null,
       "grid_auto_rows": null,
       "grid_column": null,
       "grid_gap": null,
       "grid_row": null,
       "grid_template_areas": null,
       "grid_template_columns": null,
       "grid_template_rows": null,
       "height": null,
       "justify_content": null,
       "justify_items": null,
       "left": null,
       "margin": null,
       "max_height": null,
       "max_width": null,
       "min_height": null,
       "min_width": null,
       "object_fit": null,
       "object_position": null,
       "order": null,
       "overflow": null,
       "padding": null,
       "right": null,
       "top": null,
       "visibility": null,
       "width": null
      }
     },
     "ff49dab6b7b243f1826ddb308e67c223": {
      "model_module": "@jupyter-widgets/base",
      "model_module_version": "2.0.0",
      "model_name": "LayoutModel",
      "state": {
       "_model_module": "@jupyter-widgets/base",
       "_model_module_version": "2.0.0",
       "_model_name": "LayoutModel",
       "_view_count": null,
       "_view_module": "@jupyter-widgets/base",
       "_view_module_version": "2.0.0",
       "_view_name": "LayoutView",
       "align_content": null,
       "align_items": null,
       "align_self": null,
       "border_bottom": null,
       "border_left": null,
       "border_right": null,
       "border_top": null,
       "bottom": null,
       "display": null,
       "flex": null,
       "flex_flow": null,
       "grid_area": null,
       "grid_auto_columns": null,
       "grid_auto_flow": null,
       "grid_auto_rows": null,
       "grid_column": null,
       "grid_gap": null,
       "grid_row": null,
       "grid_template_areas": null,
       "grid_template_columns": null,
       "grid_template_rows": null,
       "height": null,
       "justify_content": null,
       "justify_items": null,
       "left": null,
       "margin": null,
       "max_height": null,
       "max_width": null,
       "min_height": null,
       "min_width": null,
       "object_fit": null,
       "object_position": null,
       "order": null,
       "overflow": null,
       "padding": null,
       "right": null,
       "top": null,
       "visibility": null,
       "width": null
      }
     }
    },
    "version_major": 2,
    "version_minor": 0
   }
  }
 },
 "nbformat": 4,
 "nbformat_minor": 5
}
